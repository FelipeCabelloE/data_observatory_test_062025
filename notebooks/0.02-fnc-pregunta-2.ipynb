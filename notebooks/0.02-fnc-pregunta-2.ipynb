{
 "cells": [
  {
   "cell_type": "code",
   "execution_count": 1,
   "id": "5054c175-f235-4bdc-a20c-29fab522b49e",
   "metadata": {},
   "outputs": [],
   "source": [
    "%load_ext autoreload\n",
    "%autoreload 2"
   ]
  },
  {
   "cell_type": "markdown",
   "id": "6863d271-94a6-43ad-91b0-cf199fb03306",
   "metadata": {},
   "source": [
    "# Pregunta 2\n",
    "\n",
    "Análisis de vivienda de \"data/raw/datos_viviendas_censo.csv\""
   ]
  },
  {
   "cell_type": "code",
   "execution_count": 2,
   "id": "9a38d8bf-0d6c-4762-b90f-2083f0d6e76e",
   "metadata": {},
   "outputs": [
    {
     "name": "stderr",
     "output_type": "stream",
     "text": [
      "\u001b[32m2025-06-06 00:34:41.159\u001b[0m | \u001b[1mINFO    \u001b[0m | \u001b[36mdata_observatory_test_062025.config\u001b[0m:\u001b[36m<module>\u001b[0m:\u001b[36m11\u001b[0m - \u001b[1mPROJ_ROOT path is: /var/home/felipecabello/git/data_observatory_test_062025\u001b[0m\n"
     ]
    }
   ],
   "source": [
    "import numpy as np\n",
    "import seaborn as sns\n",
    "import matplotlib.pyplot as plt\n",
    "\n",
    "from data_observatory_test_062025.config import INTERIM_DATA_DIR\n",
    "from data_observatory_test_062025.load_data_viviendas import load_data_viviendas\n",
    "from data_observatory_test_062025.generic_eda_report import generic_report"
   ]
  },
  {
   "cell_type": "code",
   "execution_count": 3,
   "id": "648bebb7-42f0-4b32-8979-f4ba3ec94efb",
   "metadata": {},
   "outputs": [],
   "source": [
    "\n",
    "# Cargamos las viviendas\n",
    "\n",
    "df_viviendas = load_data_viviendas()"
   ]
  },
  {
   "cell_type": "code",
   "execution_count": 46,
   "id": "5cb632d4-f93c-4b61-bea3-8420abe268eb",
   "metadata": {},
   "outputs": [
    {
     "name": "stdout",
     "output_type": "stream",
     "text": [
      "<class 'pandas.core.frame.DataFrame'>\n",
      "Index: 31652 entries, 0 to 31651\n",
      "Data columns (total 28 columns):\n",
      " #   Column                 Non-Null Count  Dtype  \n",
      "---  ------                 --------------  -----  \n",
      " 0   id_vivienda            31652 non-null  object \n",
      " 1   comuna                 31652 non-null  object \n",
      " 2   tipo_vivienda          31652 non-null  object \n",
      " 3   num_dormitorios        31652 non-null  int64  \n",
      " 4   num_banos              31652 non-null  int64  \n",
      " 5   superficie_m2          31652 non-null  float64\n",
      " 6   ano_construccion       31652 non-null  int64  \n",
      " 7   material_paredes       31652 non-null  object \n",
      " 8   material_techo         31652 non-null  object \n",
      " 9   num_personas_hogar     31652 non-null  int64  \n",
      " 10  num_hombres            31652 non-null  int64  \n",
      " 11  num_mujeres            31652 non-null  int64  \n",
      " 12  num_menores_18         31652 non-null  int64  \n",
      " 13  num_adultos_18_64      31652 non-null  int64  \n",
      " 14  num_adultos_65_plus    31652 non-null  int64  \n",
      " 15  ingreso_mensual_hogar  31652 non-null  int64  \n",
      " 16  jefe_hogar_edad        31652 non-null  int64  \n",
      " 17  jefe_hogar_sexo        31652 non-null  object \n",
      " 18  jefe_hogar_educacion   31652 non-null  object \n",
      " 19  agua_potable           31652 non-null  bool   \n",
      " 20  electricidad           31652 non-null  bool   \n",
      " 21  gas_natural            31652 non-null  bool   \n",
      " 22  internet               31652 non-null  bool   \n",
      " 23  telefono_fijo          31652 non-null  bool   \n",
      " 24  vehiculo_propio        31652 non-null  bool   \n",
      " 25  tenencia_vivienda      31652 non-null  object \n",
      " 26  suma_etarios           31652 non-null  int64  \n",
      " 27  suma_genero            31652 non-null  int64  \n",
      "dtypes: bool(6), float64(1), int64(13), object(8)\n",
      "memory usage: 5.7+ MB\n",
      "\n",
      "==================== 1.1.1 Exploración Inicial ====================\n",
      "\n",
      "--- Dataset shape ---\n",
      "(31652, 28)\n",
      "\n",
      "--- Dataset columns ---\n",
      "Index(['id_vivienda', 'comuna', 'tipo_vivienda', 'num_dormitorios',\n",
      "       'num_banos', 'superficie_m2', 'ano_construccion', 'material_paredes',\n",
      "       'material_techo', 'num_personas_hogar', 'num_hombres', 'num_mujeres',\n",
      "       'num_menores_18', 'num_adultos_18_64', 'num_adultos_65_plus',\n",
      "       'ingreso_mensual_hogar', 'jefe_hogar_edad', 'jefe_hogar_sexo',\n",
      "       'jefe_hogar_educacion', 'agua_potable', 'electricidad', 'gas_natural',\n",
      "       'internet', 'telefono_fijo', 'vehiculo_propio', 'tenencia_vivienda',\n",
      "       'suma_etarios', 'suma_genero'],\n",
      "      dtype='object')\n",
      "\n",
      "--- Dataset Info ---\n",
      "None\n",
      "\n",
      "--- Dtypes ---\n",
      "id_vivienda               object\n",
      "comuna                    object\n",
      "tipo_vivienda             object\n",
      "num_dormitorios            int64\n",
      "num_banos                  int64\n",
      "superficie_m2            float64\n",
      "ano_construccion           int64\n",
      "material_paredes          object\n",
      "material_techo            object\n",
      "num_personas_hogar         int64\n",
      "num_hombres                int64\n",
      "num_mujeres                int64\n",
      "num_menores_18             int64\n",
      "num_adultos_18_64          int64\n",
      "num_adultos_65_plus        int64\n",
      "ingreso_mensual_hogar      int64\n",
      "jefe_hogar_edad            int64\n",
      "jefe_hogar_sexo           object\n",
      "jefe_hogar_educacion      object\n",
      "agua_potable                bool\n",
      "electricidad                bool\n",
      "gas_natural                 bool\n",
      "internet                    bool\n",
      "telefono_fijo               bool\n",
      "vehiculo_propio             bool\n",
      "tenencia_vivienda         object\n",
      "suma_etarios               int64\n",
      "suma_genero                int64\n",
      "dtype: object\n",
      "\n",
      "--- Numeric Describe ---\n",
      "       num_dormitorios     num_banos  superficie_m2  ano_construccion  \\\n",
      "count     31652.000000  31652.000000   31652.000000      31652.000000   \n",
      "mean          3.003223      2.008467     114.299558       1986.595255   \n",
      "std           1.413249      0.813299      49.053506         21.367972   \n",
      "min           1.000000      1.000000      30.000000       1950.000000   \n",
      "25%           2.000000      1.000000      71.700000       1968.000000   \n",
      "50%           3.000000      2.000000     113.500000       1987.000000   \n",
      "75%           4.000000      3.000000     156.800000       2005.000000   \n",
      "max           5.000000      3.000000     200.000000       2023.000000   \n",
      "\n",
      "       num_personas_hogar   num_hombres   num_mujeres  num_menores_18  \\\n",
      "count        31652.000000  31652.000000  31652.000000    31652.000000   \n",
      "mean             6.699924      3.341969      3.357955        1.659074   \n",
      "std              4.914124      3.588421      3.598163        1.358284   \n",
      "min              1.000000      0.000000      0.000000        0.000000   \n",
      "25%              3.000000      1.000000      1.000000        0.000000   \n",
      "50%              5.000000      2.000000      2.000000        1.000000   \n",
      "75%             10.000000      5.000000      5.000000        3.000000   \n",
      "max             20.000000     20.000000     20.000000        4.000000   \n",
      "\n",
      "       num_adultos_18_64  num_adultos_65_plus  ingreso_mensual_hogar  \\\n",
      "count       31652.000000         31652.000000           3.165200e+04   \n",
      "mean            2.541956             2.498894           1.650400e+06   \n",
      "std             3.259705             3.210088           7.822275e+05   \n",
      "min             0.000000             0.000000           3.000390e+05   \n",
      "25%             0.000000             0.000000           9.666398e+05   \n",
      "50%             1.000000             1.000000           1.654124e+06   \n",
      "75%             4.000000             4.000000           2.331114e+06   \n",
      "max            20.000000            20.000000           2.999967e+06   \n",
      "\n",
      "       jefe_hogar_edad  suma_etarios   suma_genero  \n",
      "count     31652.000000  31652.000000  31652.000000  \n",
      "mean         48.898679      6.699924      6.699924  \n",
      "std          18.180070      4.914124      4.914124  \n",
      "min          18.000000      1.000000      1.000000  \n",
      "25%          33.000000      3.000000      3.000000  \n",
      "50%          49.000000      5.000000      5.000000  \n",
      "75%          65.000000     10.000000     10.000000  \n",
      "max          80.000000     20.000000     20.000000  \n",
      "\n",
      "--- Object Describe ---\n",
      "       id_vivienda    comuna tipo_vivienda material_paredes material_techo  \\\n",
      "count        31652     31652         31652            31652          31652   \n",
      "unique       31652        42             4                4              6   \n",
      "top     VIV_031651  Santiago  Departamento         Hormigón          Tejas   \n",
      "freq             1      1040          7962             8209           8019   \n",
      "\n",
      "       jefe_hogar_sexo jefe_hogar_educacion tenencia_vivienda  \n",
      "count            31652                31652             31652  \n",
      "unique               2                    5                 4  \n",
      "top                  F               Básica         Arrendada  \n",
      "freq             15835                 6465              8023  \n",
      "\n",
      "--- Valores Faltantes ---\n",
      "id_vivienda              0\n",
      "comuna                   0\n",
      "tipo_vivienda            0\n",
      "num_dormitorios          0\n",
      "num_banos                0\n",
      "superficie_m2            0\n",
      "ano_construccion         0\n",
      "material_paredes         0\n",
      "material_techo           0\n",
      "num_personas_hogar       0\n",
      "num_hombres              0\n",
      "num_mujeres              0\n",
      "num_menores_18           0\n",
      "num_adultos_18_64        0\n",
      "num_adultos_65_plus      0\n",
      "ingreso_mensual_hogar    0\n",
      "jefe_hogar_edad          0\n",
      "jefe_hogar_sexo          0\n",
      "jefe_hogar_educacion     0\n",
      "agua_potable             0\n",
      "electricidad             0\n",
      "gas_natural              0\n",
      "internet                 0\n",
      "telefono_fijo            0\n",
      "vehiculo_propio          0\n",
      "tenencia_vivienda        0\n",
      "suma_etarios             0\n",
      "suma_genero              0\n",
      "\n",
      "--- Duplicados ---\n",
      "Número de filas duplicadas: 0\n",
      "\n",
      "--- Valores únicos ---\n",
      "id_vivienda              31652\n",
      "comuna                      42\n",
      "tipo_vivienda                4\n",
      "num_dormitorios              5\n",
      "num_banos                    3\n",
      "superficie_m2             1701\n",
      "ano_construccion            74\n",
      "material_paredes             4\n",
      "material_techo               6\n",
      "num_personas_hogar          20\n",
      "num_hombres                 21\n",
      "num_mujeres                 21\n",
      "num_menores_18               5\n",
      "num_adultos_18_64           21\n",
      "num_adultos_65_plus         21\n",
      "ingreso_mensual_hogar    31485\n",
      "jefe_hogar_edad             63\n",
      "jefe_hogar_sexo              2\n",
      "jefe_hogar_educacion         5\n",
      "agua_potable                 2\n",
      "electricidad                 2\n",
      "gas_natural                  2\n",
      "internet                     2\n",
      "telefono_fijo                2\n",
      "vehiculo_propio              2\n",
      "tenencia_vivienda            4\n",
      "suma_etarios                20\n",
      "suma_genero                 20\n",
      "============================================================\n"
     ]
    }
   ],
   "source": [
    "# eda generico para sacarlo de encima rápido, y tenerlo como referencia\n",
    "\n",
    "generic_report(df_viviendas)"
   ]
  },
  {
   "cell_type": "markdown",
   "id": "87b2919b-5221-450e-9e32-aa616f168aa8",
   "metadata": {},
   "source": [
    "Es un dataset bien regular, sin datos faltantes, aunque igual hay que revusar"
   ]
  },
  {
   "cell_type": "markdown",
   "id": "e673810a-ddea-4973-bcdb-821c2fc0fe9f",
   "metadata": {},
   "source": [
    "No me parece bien empezar el análisis de coherencia sin antes estandarizar y deduplicar la información"
   ]
  },
  {
   "cell_type": "markdown",
   "id": "eb642bd8-9c53-4034-86b5-5a3fe3eb7ad8",
   "metadata": {},
   "source": [
    "\n",
    "## 2.1.2 Estandarización y deduplicación (35%)\n",
    "\n",
    "Implementa soluciones para:\n",
    "\n",
    "1. Estandarizar nombres de comunas (ej: “Providencia”, “providencia”, “PROVIDENCIA” → formato único)\n",
    "2. Detectar y manejar registros duplicados de viviendas\n",
    "3. Corregir inconsistencias menores en encoding de caracteres\n",
    "4. Estandarizar formatos de tipos de vivienda y materiales de construcción\n",
    "5. Normalizar representaciones de servicios básicos (Sí/No)\n",
    "\n"
   ]
  },
  {
   "cell_type": "code",
   "execution_count": 5,
   "id": "9d5f28f7-800e-4335-8312-2a5c2667a3e8",
   "metadata": {},
   "outputs": [
    {
     "data": {
      "text/plain": [
       "array(['Vallenar', 'Coyhaique', 'La Serena', 'Curicó', 'Los Ángeles',\n",
       "       'Providencia', 'San Antonio', 'Ñuñoa', 'San Fernando', 'Arica',\n",
       "       'San Bernardo', 'Alto Hospicio', 'Ovalle', 'Villarrica', 'Iquique',\n",
       "       'Calama', 'Las Condes', 'Copiapó', 'Puerto Montt', 'Rancagua',\n",
       "       'Valparaíso', 'Valdivia', 'Talca', 'Puente Alto', 'Santiago',\n",
       "       'La Florida', 'Punta Arenas', 'Coquimbo', 'Castro', 'Maipú',\n",
       "       'Viña del Mar', 'Chillán', 'Quilpué', 'Los Andes', 'Talcahuano',\n",
       "       'Osorno', 'Villa Alemana', 'Quillota', 'Concepción', 'Temuco',\n",
       "       'Antofagasta', 'concepcion', 'Provi', 'VALPARAÍSO', 'CONCEPCIÓN',\n",
       "       'Valpo', 'Stgo', 'Putre', 'LAS CONDES', 'PROVIDENCIA',\n",
       "       'providencia', 'las condes', 'Condes', 'SANTIAGO', 'santiago',\n",
       "       'valparaiso', 'Conce'], dtype=object)"
      ]
     },
     "execution_count": 5,
     "metadata": {},
     "output_type": "execute_result"
    }
   ],
   "source": [
    "df_viviendas[\"comuna\"].unique()"
   ]
  },
  {
   "cell_type": "code",
   "execution_count": 6,
   "id": "83341fd2-495e-4150-9028-23d921db6fb7",
   "metadata": {},
   "outputs": [
    {
     "name": "stdout",
     "output_type": "stream",
     "text": [
      "\n",
      "Comunas únicas antes de la limpieza: 57\n"
     ]
    }
   ],
   "source": [
    "print(f\"\\nComunas únicas antes de la limpieza: {df_viviendas['comuna'].nunique()}\")\n",
    "\n",
    "# Estrategia: Normalizar texto (minúsculas, sin espacios) y luego aplicar un mapeo para abreviaturas.\n",
    "comuna_map = {\n",
    "    'provi': 'Providencia',\n",
    "    'valpo': 'Valparaíso',\n",
    "    'valparaiso': 'Valparaíso',\n",
    "    'stgo': 'Santiago',\n",
    "    'conce': 'Concepción',\n",
    "    'condes': 'Las Condes',\n",
    "    'concepcion': 'Concepción',\n",
    "}\n",
    "\n",
    "# Apply cleaning steps\n",
    "df_viviendas['comuna_limpia'] = df_viviendas['comuna'].str.lower().str.strip()\n",
    "df_viviendas['comuna_limpia'] = df_viviendas['comuna_limpia'].replace(comuna_map)\n",
    "df_viviendas['comuna_limpia'] = df_viviendas['comuna_limpia'].str.capitalize()"
   ]
  },
  {
   "cell_type": "code",
   "execution_count": 7,
   "id": "533daa52-ab73-4f8f-9205-75beaa6e0503",
   "metadata": {},
   "outputs": [
    {
     "name": "stdout",
     "output_type": "stream",
     "text": [
      "Comunas estandarizadas: ['Alto hospicio', 'Antofagasta', 'Arica', 'Calama', 'Castro', 'Chillán', 'Concepción', 'Copiapó', 'Coquimbo', 'Coyhaique', 'Curicó', 'Iquique', 'La florida', 'La serena', 'Las condes', 'Los andes', 'Los ángeles', 'Maipú', 'Osorno', 'Ovalle', 'Providencia', 'Puente alto', 'Puerto montt', 'Punta arenas', 'Putre', 'Quillota', 'Quilpué', 'Rancagua', 'San antonio', 'San bernardo', 'San fernando', 'Santiago', 'Talca', 'Talcahuano', 'Temuco', 'Valdivia', 'Vallenar', 'Valparaíso', 'Villa alemana', 'Villarrica', 'Viña del mar', 'Ñuñoa']\n"
     ]
    }
   ],
   "source": [
    "print(\"Comunas estandarizadas:\", sorted(df_viviendas['comuna_limpia'].dropna().unique()))"
   ]
  },
  {
   "cell_type": "code",
   "execution_count": null,
   "id": "97a15ec7-bcf6-4f8b-9310-875e86918a3b",
   "metadata": {},
   "outputs": [],
   "source": []
  },
  {
   "cell_type": "code",
   "execution_count": null,
   "id": "421deb83-0f59-481a-b273-36354fa3f730",
   "metadata": {},
   "outputs": [],
   "source": []
  },
  {
   "cell_type": "code",
   "execution_count": 8,
   "id": "fbf89d9d-76b3-4dcd-857b-1ec305315062",
   "metadata": {},
   "outputs": [
    {
     "data": {
      "text/plain": [
       "31650        VIV_031650\n",
       "31651        VIV_031651\n",
       "31652    VIV_000848_DUP\n",
       "31653    VIV_031079_DUP\n",
       "31654    VIV_021263_DUP\n",
       "31655    VIV_027704_DUP\n",
       "31656    VIV_027866_DUP\n",
       "31657    VIV_029093_DUP\n",
       "31658    VIV_027375_DUP\n",
       "31659    VIV_001560_DUP\n",
       "Name: id_vivienda, dtype: object"
      ]
     },
     "execution_count": 8,
     "metadata": {},
     "output_type": "execute_result"
    }
   ],
   "source": [
    "df_viviendas[\"id_vivienda\"].tail(10)"
   ]
  },
  {
   "cell_type": "code",
   "execution_count": 9,
   "id": "139937cd-fee4-419c-b51a-5553492e9568",
   "metadata": {},
   "outputs": [
    {
     "data": {
      "text/html": [
       "<div>\n",
       "<style scoped>\n",
       "    .dataframe tbody tr th:only-of-type {\n",
       "        vertical-align: middle;\n",
       "    }\n",
       "\n",
       "    .dataframe tbody tr th {\n",
       "        vertical-align: top;\n",
       "    }\n",
       "\n",
       "    .dataframe thead th {\n",
       "        text-align: right;\n",
       "    }\n",
       "</style>\n",
       "<table border=\"1\" class=\"dataframe\">\n",
       "  <thead>\n",
       "    <tr style=\"text-align: right;\">\n",
       "      <th></th>\n",
       "      <th>id_vivienda</th>\n",
       "      <th>comuna</th>\n",
       "      <th>tipo_vivienda</th>\n",
       "      <th>num_dormitorios</th>\n",
       "      <th>num_banos</th>\n",
       "      <th>superficie_m2</th>\n",
       "      <th>ano_construccion</th>\n",
       "      <th>material_paredes</th>\n",
       "      <th>material_techo</th>\n",
       "      <th>num_personas_hogar</th>\n",
       "      <th>...</th>\n",
       "      <th>jefe_hogar_sexo</th>\n",
       "      <th>jefe_hogar_educacion</th>\n",
       "      <th>agua_potable</th>\n",
       "      <th>electricidad</th>\n",
       "      <th>gas_natural</th>\n",
       "      <th>internet</th>\n",
       "      <th>telefono_fijo</th>\n",
       "      <th>vehiculo_propio</th>\n",
       "      <th>tenencia_vivienda</th>\n",
       "      <th>comuna_limpia</th>\n",
       "    </tr>\n",
       "  </thead>\n",
       "  <tbody>\n",
       "    <tr>\n",
       "      <th>848</th>\n",
       "      <td>VIV_000848</td>\n",
       "      <td>Coyhaique</td>\n",
       "      <td>Departamento</td>\n",
       "      <td>2</td>\n",
       "      <td>1</td>\n",
       "      <td>136.8</td>\n",
       "      <td>1959</td>\n",
       "      <td>Ladrillo</td>\n",
       "      <td>Zinc</td>\n",
       "      <td>6</td>\n",
       "      <td>...</td>\n",
       "      <td>M</td>\n",
       "      <td>Sin estudios</td>\n",
       "      <td>No</td>\n",
       "      <td>Sí</td>\n",
       "      <td>Sí</td>\n",
       "      <td>Sí</td>\n",
       "      <td>No</td>\n",
       "      <td>No</td>\n",
       "      <td>Arrendada</td>\n",
       "      <td>Coyhaique</td>\n",
       "    </tr>\n",
       "    <tr>\n",
       "      <th>31652</th>\n",
       "      <td>VIV_000848_DUP</td>\n",
       "      <td>Coyhaique</td>\n",
       "      <td>Departamento</td>\n",
       "      <td>2</td>\n",
       "      <td>1</td>\n",
       "      <td>136.8</td>\n",
       "      <td>1959</td>\n",
       "      <td>Ladrillo</td>\n",
       "      <td>Zinc</td>\n",
       "      <td>6</td>\n",
       "      <td>...</td>\n",
       "      <td>M</td>\n",
       "      <td>Sin estudios</td>\n",
       "      <td>No</td>\n",
       "      <td>Sí</td>\n",
       "      <td>Sí</td>\n",
       "      <td>Sí</td>\n",
       "      <td>No</td>\n",
       "      <td>No</td>\n",
       "      <td>Arrendada</td>\n",
       "      <td>Coyhaique</td>\n",
       "    </tr>\n",
       "  </tbody>\n",
       "</table>\n",
       "<p>2 rows × 27 columns</p>\n",
       "</div>"
      ],
      "text/plain": [
       "          id_vivienda     comuna tipo_vivienda  num_dormitorios  num_banos  \\\n",
       "848        VIV_000848  Coyhaique  Departamento                2          1   \n",
       "31652  VIV_000848_DUP  Coyhaique  Departamento                2          1   \n",
       "\n",
       "       superficie_m2  ano_construccion material_paredes material_techo  \\\n",
       "848            136.8              1959         Ladrillo           Zinc   \n",
       "31652          136.8              1959         Ladrillo           Zinc   \n",
       "\n",
       "       num_personas_hogar  ...  jefe_hogar_sexo  jefe_hogar_educacion  \\\n",
       "848                     6  ...                M          Sin estudios   \n",
       "31652                   6  ...                M          Sin estudios   \n",
       "\n",
       "       agua_potable  electricidad  gas_natural  internet  telefono_fijo  \\\n",
       "848              No            Sí           Sí        Sí             No   \n",
       "31652            No            Sí           Sí        Sí             No   \n",
       "\n",
       "      vehiculo_propio tenencia_vivienda comuna_limpia  \n",
       "848                No         Arrendada     Coyhaique  \n",
       "31652              No         Arrendada     Coyhaique  \n",
       "\n",
       "[2 rows x 27 columns]"
      ]
     },
     "execution_count": 9,
     "metadata": {},
     "output_type": "execute_result"
    }
   ],
   "source": [
    "df_viviendas[df_viviendas[\"id_vivienda\"].isin([\"VIV_000848_DUP\", \"VIV_000848\"])]\n"
   ]
  },
  {
   "cell_type": "code",
   "execution_count": 10,
   "id": "f5347753-30aa-4ca2-a1d6-c4ffbd59dbfe",
   "metadata": {},
   "outputs": [
    {
     "name": "stdout",
     "output_type": "stream",
     "text": [
      "\n",
      "Número total de registros antes de eliminar duplicados: 31660\n",
      "Número de registros marcados como duplicados ('_DUP'): 8\n",
      "Número de registros después de eliminar duplicados: 31652\n"
     ]
    }
   ],
   "source": [
    "print(f\"\\nNúmero total de registros antes de eliminar duplicados: {len(df_viviendas)}\")\n",
    "\n",
    "# Estrategia: Identificar y eliminar registros cuyo 'id_vivienda' contiene '_DUP'.\n",
    "# Esto asume que el registro original (sin _DUP) es la fuente de verdad.\n",
    "is_duplicate = df_viviendas['id_vivienda'].str.contains('_DUP', na=False)\n",
    "num_duplicados = is_duplicate.sum()\n",
    "\n",
    "print(f\"Número de registros marcados como duplicados ('_DUP'): {num_duplicados}\")\n",
    "\n",
    "# Eliminar los registros duplicados\n",
    "df_viviendas = df_viviendas[~is_duplicate].copy()\n",
    "print(f\"Número de registros después de eliminar duplicados: {len(df_viviendas)}\")"
   ]
  },
  {
   "cell_type": "code",
   "execution_count": 11,
   "id": "2c6bc9e5-b7e2-4f22-99d4-e4b6de726a42",
   "metadata": {
    "scrolled": true
   },
   "outputs": [
    {
     "data": {
      "text/plain": [
       "31642    VIV_031642\n",
       "31643    VIV_031643\n",
       "31644    VIV_031644\n",
       "31645    VIV_031645\n",
       "31646    VIV_031646\n",
       "31647    VIV_031647\n",
       "31648    VIV_031648\n",
       "31649    VIV_031649\n",
       "31650    VIV_031650\n",
       "31651    VIV_031651\n",
       "Name: id_vivienda, dtype: object"
      ]
     },
     "execution_count": 11,
     "metadata": {},
     "output_type": "execute_result"
    }
   ],
   "source": [
    "df_viviendas[\"id_vivienda\"].tail(10)"
   ]
  },
  {
   "cell_type": "code",
   "execution_count": 12,
   "id": "b7493a1b-c443-4312-ab10-b424c4ddac8a",
   "metadata": {},
   "outputs": [
    {
     "name": "stdout",
     "output_type": "stream",
     "text": [
      "Length Statistics:\n",
      "count    31652.0\n",
      "mean        10.0\n",
      "std          0.0\n",
      "min         10.0\n",
      "25%         10.0\n",
      "50%         10.0\n",
      "75%         10.0\n",
      "max         10.0\n",
      "Name: id_vivienda, dtype: float64\n",
      "\n",
      "Min length: 10\n",
      "Max length: 10\n",
      "Mode length: 10\n"
     ]
    }
   ],
   "source": [
    "\n",
    "# Calculate string lengths\n",
    "series_lengths = df_viviendas['id_vivienda'].str.len()\n",
    "\n",
    "# Basic statistics\n",
    "print(\"Length Statistics:\")\n",
    "print(series_lengths.describe())\n",
    "print(f\"\\nMin length: {series_lengths.min()}\")\n",
    "print(f\"Max length: {series_lengths.max()}\")\n",
    "print(f\"Mode length: {series_lengths.mode().iloc[0]}\")"
   ]
  },
  {
   "cell_type": "code",
   "execution_count": 13,
   "id": "25041380-5301-4d25-8be5-201e785c03e3",
   "metadata": {},
   "outputs": [
    {
     "data": {
      "text/plain": [
       "array(['No', 'Sí'], dtype=object)"
      ]
     },
     "metadata": {},
     "output_type": "display_data"
    },
    {
     "data": {
      "text/plain": [
       "array(['No', 'Sí'], dtype=object)"
      ]
     },
     "metadata": {},
     "output_type": "display_data"
    },
    {
     "data": {
      "text/plain": [
       "array(['Sí', 'No'], dtype=object)"
      ]
     },
     "metadata": {},
     "output_type": "display_data"
    },
    {
     "data": {
      "text/plain": [
       "array(['Sí', 'No'], dtype=object)"
      ]
     },
     "metadata": {},
     "output_type": "display_data"
    },
    {
     "data": {
      "text/plain": [
       "array(['Sí', 'No'], dtype=object)"
      ]
     },
     "metadata": {},
     "output_type": "display_data"
    },
    {
     "data": {
      "text/plain": [
       "array(['Sí', 'No'], dtype=object)"
      ]
     },
     "metadata": {},
     "output_type": "display_data"
    }
   ],
   "source": [
    "for col in ['agua_potable', 'electricidad', 'gas_natural', 'internet', 'telefono_fijo', 'vehiculo_propio']:\n",
    "    display(df_viviendas[col].unique())\n"
   ]
  },
  {
   "cell_type": "markdown",
   "id": "95fa6293-1b76-4166-b7b1-70914c4959e0",
   "metadata": {},
   "source": [
    "Aquí de vamos a pasar todo a booleano por preferencia personal. Ahora, me llama la atención que los servicios bpásicos están completamente limpios"
   ]
  },
  {
   "cell_type": "code",
   "execution_count": 14,
   "id": "9bd1b4bd-d1c1-4b62-8886-b2fd029f064d",
   "metadata": {},
   "outputs": [
    {
     "name": "stderr",
     "output_type": "stream",
     "text": [
      "/tmp/ipykernel_77018/3916677317.py:3: FutureWarning: DataFrame.applymap has been deprecated. Use DataFrame.map instead.\n",
      "  df_viviendas[boolean_columns] = df_viviendas[boolean_columns].applymap(lambda x: x == 'Sí')\n"
     ]
    }
   ],
   "source": [
    "boolean_columns = ['agua_potable', 'electricidad', 'gas_natural', 'internet', 'telefono_fijo', 'vehiculo_propio']\n",
    "# Make them booleans\n",
    "df_viviendas[boolean_columns] = df_viviendas[boolean_columns].applymap(lambda x: x == 'Sí')"
   ]
  },
  {
   "cell_type": "code",
   "execution_count": 15,
   "id": "f7a8ed4c-cdcb-45f8-99a6-c154f406a8c6",
   "metadata": {},
   "outputs": [
    {
     "data": {
      "text/plain": [
       "array([False,  True])"
      ]
     },
     "metadata": {},
     "output_type": "display_data"
    },
    {
     "data": {
      "text/plain": [
       "array([False,  True])"
      ]
     },
     "metadata": {},
     "output_type": "display_data"
    },
    {
     "data": {
      "text/plain": [
       "array([ True, False])"
      ]
     },
     "metadata": {},
     "output_type": "display_data"
    },
    {
     "data": {
      "text/plain": [
       "array([ True, False])"
      ]
     },
     "metadata": {},
     "output_type": "display_data"
    },
    {
     "data": {
      "text/plain": [
       "array([ True, False])"
      ]
     },
     "metadata": {},
     "output_type": "display_data"
    },
    {
     "data": {
      "text/plain": [
       "array([ True, False])"
      ]
     },
     "metadata": {},
     "output_type": "display_data"
    }
   ],
   "source": [
    "for col in ['agua_potable', 'electricidad', 'gas_natural', 'internet', 'telefono_fijo', 'vehiculo_propio']:\n",
    "    display(df_viviendas[col].unique())"
   ]
  },
  {
   "cell_type": "code",
   "execution_count": 16,
   "id": "2cb9a429-e152-4381-92fd-0c1247f54949",
   "metadata": {},
   "outputs": [
    {
     "name": "stdout",
     "output_type": "stream",
     "text": [
      "\n",
      "Comunas únicas antes de la limpieza: 11\n"
     ]
    }
   ],
   "source": [
    "print(f\"\\nComunas únicas antes de la limpieza: {df_viviendas['tipo_vivienda'].nunique()}\")\n",
    "\n",
    "# Estrategia: Normalizar texto (minúsculas, sin espacios) y luego aplicar un mapeo para abreviaturas.\n",
    "vivienda_map = {\n",
    "    \"pareada\": \"Casa pareada\",\n",
    "    \"departam.\": \"Departamento\",\n",
    "    \"depto.\": \"Departamento\",\n",
    "    \"dpto\": \"Departamento\",\n",
    "    \"mediagua\": \"Media agua\"\n",
    "\n",
    "}\n",
    "\n",
    "# Apply cleaning steps\n",
    "df_viviendas['tipo_vivienda_limpia'] = df_viviendas['tipo_vivienda'].str.lower().str.strip()\n",
    "df_viviendas['tipo_vivienda_limpia'] = df_viviendas['tipo_vivienda_limpia'].replace(vivienda_map)\n",
    "df_viviendas['tipo_vivienda_limpia'] = df_viviendas['tipo_vivienda_limpia'].str.capitalize()"
   ]
  },
  {
   "cell_type": "code",
   "execution_count": 17,
   "id": "b6fc31df-1e60-4fe2-b10f-958f2b19b44b",
   "metadata": {},
   "outputs": [
    {
     "name": "stdout",
     "output_type": "stream",
     "text": [
      "Tipo de vivienda: ['Casa' 'Casa pareada' 'Departamento' 'Media agua']\n"
     ]
    }
   ],
   "source": [
    "print(\"Tipo de vivienda:\", df_viviendas['tipo_vivienda_limpia'].unique())"
   ]
  },
  {
   "cell_type": "code",
   "execution_count": null,
   "id": "3ecc9711-2616-41d8-b2ae-0897f168814f",
   "metadata": {},
   "outputs": [],
   "source": []
  },
  {
   "cell_type": "code",
   "execution_count": 18,
   "id": "cbff0f9f-c0a4-4286-a9e4-a822035e7725",
   "metadata": {
    "scrolled": true
   },
   "outputs": [
    {
     "name": "stdout",
     "output_type": "stream",
     "text": [
      "\n",
      "Material de paredes antes: ['Ladrillo' 'Madera' 'Adobe' 'Hormigón' 'Wood' 'hormigon' 'Concrete'\n",
      " 'ladrillo' 'HORMIGÓN' 'LADRILLO']\n"
     ]
    }
   ],
   "source": [
    "print(\"\\nMaterial de paredes antes:\", df_viviendas['material_paredes'].unique())"
   ]
  },
  {
   "cell_type": "code",
   "execution_count": 19,
   "id": "81d1cb99-a0c6-453d-9075-b026b2acc2b5",
   "metadata": {},
   "outputs": [
    {
     "name": "stdout",
     "output_type": "stream",
     "text": [
      "\n",
      "Comunas únicas antes de la limpieza: 10\n"
     ]
    }
   ],
   "source": [
    "print(f\"\\nComunas únicas antes de la limpieza: {df_viviendas['material_paredes'].nunique()}\")\n",
    "\n",
    "# Estrategia: Normalizar texto (minúsculas, sin espacios) y luego aplicar un mapeo para abreviaturas.\n",
    "material_map = {\n",
    "    \"wood\": \"Madera\",\n",
    "    \"hormigon\": \"Hormigón\",\n",
    "    \"concrete\": \"Hormigón\",\n",
    "\n",
    "}\n",
    "\n",
    "# Apply cleaning steps\n",
    "df_viviendas['material_paredes_limpia'] = df_viviendas['material_paredes'].str.lower().str.strip()\n",
    "df_viviendas['material_paredes_limpia'] = df_viviendas['material_paredes_limpia'].replace(material_map)\n",
    "df_viviendas['material_paredes_limpia'] = df_viviendas['material_paredes_limpia'].str.capitalize()"
   ]
  },
  {
   "cell_type": "code",
   "execution_count": 20,
   "id": "60f81241-73fe-4aea-9cc6-29a9408fcb85",
   "metadata": {},
   "outputs": [
    {
     "name": "stdout",
     "output_type": "stream",
     "text": [
      "\n",
      "Material de paredes antes: ['Ladrillo' 'Madera' 'Adobe' 'Hormigón']\n"
     ]
    }
   ],
   "source": [
    "print(\"\\nMaterial de paredes antes:\", df_viviendas['material_paredes_limpia'].unique())"
   ]
  },
  {
   "cell_type": "code",
   "execution_count": 21,
   "id": "a531262b-895a-4072-9cd2-d45e631f4910",
   "metadata": {},
   "outputs": [
    {
     "data": {
      "text/plain": [
       "array(['Losa', 'Tejas', 'Paja', 'Zinc', 'tejas', 'ZINC', 'Chapa',\n",
       "       'Eternit'], dtype=object)"
      ]
     },
     "execution_count": 21,
     "metadata": {},
     "output_type": "execute_result"
    }
   ],
   "source": [
    "df_viviendas['material_techo'].unique()"
   ]
  },
  {
   "cell_type": "code",
   "execution_count": 22,
   "id": "f194d508-218b-477d-94d8-e6c9d5d88e49",
   "metadata": {},
   "outputs": [
    {
     "name": "stdout",
     "output_type": "stream",
     "text": [
      "únicas antes de la limpieza: 8\n"
     ]
    }
   ],
   "source": [
    "print(f\"únicas antes de la limpieza: {df_viviendas['material_techo'].nunique()}\")\n",
    "\n",
    "# Estrategia: Normalizar texto (minúsculas, sin espacios) y luego aplicar un mapeo para abreviaturas.\n",
    "material_techo_map = {\n",
    "}\n",
    "\n",
    "# Apply cleaning steps\n",
    "df_viviendas['material_techo_limpia'] = df_viviendas['material_techo'].str.lower().str.strip()\n",
    "df_viviendas['material_techo_limpia'] = df_viviendas['material_techo_limpia'].replace(material_techo_map)\n",
    "df_viviendas['material_techo_limpia'] = df_viviendas['material_techo_limpia'].str.capitalize()"
   ]
  },
  {
   "cell_type": "code",
   "execution_count": 23,
   "id": "bccc7604-20f6-4502-843e-420504c8a104",
   "metadata": {},
   "outputs": [
    {
     "data": {
      "text/plain": [
       "array(['Losa', 'Tejas', 'Paja', 'Zinc', 'Chapa', 'Eternit'], dtype=object)"
      ]
     },
     "execution_count": 23,
     "metadata": {},
     "output_type": "execute_result"
    }
   ],
   "source": [
    "df_viviendas['material_techo_limpia'].unique()"
   ]
  },
  {
   "cell_type": "markdown",
   "id": "999b7b20-75ed-4c4d-93f2-b25fa253d662",
   "metadata": {},
   "source": [
    "__A estas alturas ya deberíamos haber creado una función para hacer esta limpieza__"
   ]
  },
  {
   "cell_type": "markdown",
   "id": "da646e39-a4f9-4f89-b4ba-6cff773b56cb",
   "metadata": {},
   "source": []
  },
  {
   "cell_type": "code",
   "execution_count": 24,
   "id": "2e0e587f-5009-4087-9652-8607d903b046",
   "metadata": {},
   "outputs": [
    {
     "data": {
      "text/plain": [
       "array(['M', 'F'], dtype=object)"
      ]
     },
     "metadata": {},
     "output_type": "display_data"
    },
    {
     "data": {
      "text/plain": [
       "array(['Sin estudios', 'Media', 'Universitaria', 'Técnica', 'Básica'],\n",
       "      dtype=object)"
      ]
     },
     "metadata": {},
     "output_type": "display_data"
    }
   ],
   "source": [
    "display(df_viviendas['jefe_hogar_sexo'].unique())\n",
    "display(df_viviendas['jefe_hogar_educacion'].unique())"
   ]
  },
  {
   "cell_type": "code",
   "execution_count": null,
   "id": "9d9c7c05-c7d4-4f19-b49c-c2c49cef6de4",
   "metadata": {},
   "outputs": [],
   "source": [
    "# Aquí hicimos el paso final, que es reemplazar todas las variables intervenidas con sus nombre originales\n",
    "df_viviendas['comuna'] = df_viviendas['comuna_limpia']\n",
    "df_viviendas = df_viviendas.drop(columns=['comuna_limpia'])\n",
    "df_viviendas['tipo_vivienda'] = df_viviendas['tipo_vivienda_limpia']\n",
    "df_viviendas = df_viviendas.drop(columns=['tipo_vivienda_limpia'])\n",
    "df_viviendas['material_paredes'] = df_viviendas['material_paredes_limpia']\n",
    "df_viviendas = df_viviendas.drop(columns=['material_paredes_limpia'])\n",
    "df_viviendas['material_techo'] = df_viviendas['material_techo_limpia']\n",
    "df_viviendas = df_viviendas.drop(columns=['material_techo_limpia'])\n",
    "\n"
   ]
  },
  {
   "cell_type": "markdown",
   "id": "a359279f-abe1-4ba9-b975-7dca54e8ce1c",
   "metadata": {},
   "source": []
  },
  {
   "cell_type": "code",
   "execution_count": 26,
   "id": "ce85e847-9be6-4f2c-bcba-6d84ffcceb7b",
   "metadata": {},
   "outputs": [
    {
     "data": {
      "text/plain": [
       "Index(['id_vivienda', 'comuna', 'tipo_vivienda', 'num_dormitorios',\n",
       "       'num_banos', 'superficie_m2', 'ano_construccion', 'material_paredes',\n",
       "       'material_techo', 'num_personas_hogar', 'num_hombres', 'num_mujeres',\n",
       "       'num_menores_18', 'num_adultos_18_64', 'num_adultos_65_plus',\n",
       "       'ingreso_mensual_hogar', 'jefe_hogar_edad', 'jefe_hogar_sexo',\n",
       "       'jefe_hogar_educacion', 'agua_potable', 'electricidad', 'gas_natural',\n",
       "       'internet', 'telefono_fijo', 'vehiculo_propio', 'tenencia_vivienda'],\n",
       "      dtype='object')"
      ]
     },
     "execution_count": 26,
     "metadata": {},
     "output_type": "execute_result"
    }
   ],
   "source": [
    "df_viviendas.columns"
   ]
  },
  {
   "cell_type": "markdown",
   "id": "f53ee1e8-6990-4a39-8b6d-185d9118520d",
   "metadata": {},
   "source": [
    "## 2.1.1 Análisis de coherencia interna\n",
    "Identifica y documenta inconsistencias en:\n",
    "\n",
    "1. Relación entre número de personas y distribución por género (hombres + mujeres = total)\n",
    "2. Sumas de grupos etarios vs número total de personas por hogar\n",
    "3. Relación lógica entre número de personas y dormitorios disponibles\n",
    "4. Coherencia entre servicios básicos (ej: internet sin electricidad)\n",
    "5. Valores anómalos en ingresos y características de la vivienda\n",
    "6. Tipos de vivienda y materiales de construcción coherentes\n",
    "\n",
    "Para cada inconsistencia, calcula: - Número de registros afectados - Magnitud promedio de la discrepancia - Rango de valores problemáticos"
   ]
  },
  {
   "cell_type": "markdown",
   "id": "aea8257d-bcf1-471f-ab79-225c7f66cc06",
   "metadata": {},
   "source": []
  },
  {
   "cell_type": "code",
   "execution_count": 27,
   "id": "3a8d9ec3-bda2-49c7-a13c-549b38e5238c",
   "metadata": {},
   "outputs": [
    {
     "name": "stdout",
     "output_type": "stream",
     "text": [
      "\n",
      "--- 2.1.1. Análisis de Coherencia Interna ---\n"
     ]
    }
   ],
   "source": [
    "print(\"\\n--- 2.1.1. Análisis de Coherencia Interna ---\")"
   ]
  },
  {
   "cell_type": "code",
   "execution_count": null,
   "id": "cb501e71-77c6-42fb-9647-9a9b91f30658",
   "metadata": {},
   "outputs": [],
   "source": []
  },
  {
   "cell_type": "code",
   "execution_count": null,
   "id": "82d94b5a-a0fa-48df-8e7e-d30c1dd50608",
   "metadata": {},
   "outputs": [],
   "source": []
  },
  {
   "cell_type": "code",
   "execution_count": 28,
   "id": "8ea4fb6e-fec6-413e-9605-5e82ec6d8db6",
   "metadata": {},
   "outputs": [],
   "source": [
    "\n",
    "def detectar_inconsistencias(df, validaciones, verbose=True):\n",
    "    \"\"\"\n",
    "    Función genérica para detectar inconsistencias en un DataFrame y crear flags automáticamente.\n",
    "    \n",
    "    Parámetros:\n",
    "    -----------\n",
    "    df : pandas.DataFrame\n",
    "        DataFrame a validar\n",
    "    validaciones : dict\n",
    "        Diccionario con las validaciones a realizar. Estructura:\n",
    "        {\n",
    "            'nombre_validacion': {\n",
    "                'condicion': expresión booleana o función,\n",
    "                'flag_name': 'nombre_del_flag' (opcional, se genera automáticamente)\n",
    "            }\n",
    "        }\n",
    "        O simplemente:\n",
    "        {\n",
    "            'nombre_validacion': condicion\n",
    "        }\n",
    "    verbose : bool\n",
    "        Si True, imprime información detallada sobre cada inconsistencia encontrada\n",
    "    \n",
    "    Retorna:\n",
    "    --------\n",
    "    pandas.DataFrame\n",
    "        DataFrame original con las columnas de flags añadidas\n",
    "    dict\n",
    "        Resumen de inconsistencias encontradas\n",
    "    \"\"\"\n",
    "    \n",
    "    df_resultado = df.copy()\n",
    "    resumen_inconsistencias = {}\n",
    "    \n",
    "    for nombre_validacion, config in validaciones.items():\n",
    "\n",
    "        condicion = config\n",
    "        flag_name = f'{nombre_validacion}_flag'\n",
    "        \n",
    "        # Si la condición es una función, aplicarla al DataFrame\n",
    "        if callable(condicion):\n",
    "            mask_inconsistencia = condicion(df_resultado)\n",
    "        else:\n",
    "            # Si es una expresión booleana (Series), usarla directamente\n",
    "            mask_inconsistencia = condicion\n",
    "        \n",
    "        # Contar registros afectados\n",
    "        num_inconsistencias = mask_inconsistencia.sum()\n",
    "        \n",
    "        # Solo crear el flag si hay inconsistencias\n",
    "        if num_inconsistencias > 0:\n",
    "            df_resultado[flag_name] = mask_inconsistencia\n",
    "            \n",
    "            # Guardar información en el resumen\n",
    "            resumen_inconsistencias[nombre_validacion] = {\n",
    "                'registros_afectados': num_inconsistencias,\n",
    "                'porcentaje': (num_inconsistencias / len(df_resultado)) * 100,\n",
    "                'flag_creado': flag_name\n",
    "            }\n",
    "            \n",
    "            # Imprimir información si verbose=True\n",
    "            if verbose:\n",
    "                print(f\"\\n{nombre_validacion.upper()}:\")\n",
    "                print(f\"Registros afectados: {num_inconsistencias} ({(num_inconsistencias/len(df_resultado)*100):.2f}%)\")\n",
    "                print(f\"Flag creado: '{flag_name}'\")\n",
    "        else:\n",
    "            if verbose:\n",
    "                print(f\"\\n{nombre_validacion.upper()}:\")\n",
    "                print(\"✓ No se encontraron inconsistencias\")\n",
    "    \n",
    "    return df_resultado, resumen_inconsistencias\n",
    "\n",
    "\n"
   ]
  },
  {
   "cell_type": "code",
   "execution_count": 29,
   "id": "f99af5da-004d-4013-ab4a-19dd182e9662",
   "metadata": {},
   "outputs": [],
   "source": [
    "df_viviendas['suma_etarios'] = df_viviendas['num_menores_18'] + df_viviendas['num_adultos_18_64'] + df_viviendas['num_adultos_65_plus']\n",
    "df_viviendas['suma_genero'] = df_viviendas['num_hombres'] + df_viviendas['num_mujeres']\n",
    "\n",
    "\n",
    "validaciones = {\n",
    "    'internet_sin_electricidad': lambda df: (df['internet'] == \"Sí\") & (df['electricidad'] == \"No\"),\n",
    "    'telefono_fijo_sin_electricidad': lambda df: (df['telefono_fijo'] == \"Sí\") & (df['electricidad'] == \"No\"),\n",
    "    'Departamento_madera': lambda df: (df['material_paredes'] == \"Madera\") & (df['tipo_vivienda'] == \"Departamento\"),\n",
    "    'MediaAgua_Hormigon': lambda df: (df['material_paredes'] == \"Hormigón\") & (df['tipo_vivienda'] == \"Media agua\"),\n",
    "    'Departamento_techo_paja': lambda df: (df['material_techo'] == \"Paja\") & (df['tipo_vivienda'] == \"Departamento\"),\n",
    "    'Casa_pareada_techo_paja': lambda df: (df['material_techo'] == \"Paja\") & (df['tipo_vivienda'] == \"Casa pareada\"),\n",
    "    'edad_jefe_hogar_anomala': lambda df: (df['jefe_hogar_edad'] < 18) | (df['jefe_hogar_edad'] > 110),\n",
    "    'ingreso_anomalo': lambda df: (df['ingreso_mensual_hogar'] < 0) | (df['ingreso_mensual_hogar'] > 20000000),\n",
    "    'inconsistencia_etaria': lambda df: df['num_personas_hogar'] != df['suma_etarios'],\n",
    "    \n",
    "    'techo_rustico_paredes_premium': lambda df: (df['material_techo'].isin(['Paja']) & df['material_paredes'].isin(['Hormigón'])),    \n",
    "    'media_agua_losa': lambda df: ((df['tipo_vivienda'] == 'Media agua') & (df['material_techo'] == 'Losa')),\n",
    "    'losa_adobe': lambda df: ((df['material_techo'] == 'Losa') & (df['material_paredes'] == 'Adobe')),\n",
    "    'inconsistencia_de_genero': lambda df: df['num_personas_hogar'] != df['suma_genero'],\n",
    "    'hogar_sin_personas': lambda df: df['num_personas_hogar'] <= 0\n",
    "}"
   ]
  },
  {
   "cell_type": "code",
   "execution_count": 30,
   "id": "b26ed674-ab18-4eda-ba90-1184a94ed0e0",
   "metadata": {},
   "outputs": [
    {
     "name": "stdout",
     "output_type": "stream",
     "text": [
      "\n",
      "INTERNET_SIN_ELECTRICIDAD:\n",
      "✓ No se encontraron inconsistencias\n",
      "\n",
      "TELEFONO_FIJO_SIN_ELECTRICIDAD:\n",
      "✓ No se encontraron inconsistencias\n",
      "\n",
      "DEPARTAMENTO_MADERA:\n",
      "Registros afectados: 1941 (6.13%)\n",
      "Flag creado: 'Departamento_madera_flag'\n",
      "\n",
      "MEDIAAGUA_HORMIGON:\n",
      "Registros afectados: 2060 (6.51%)\n",
      "Flag creado: 'MediaAgua_Hormigon_flag'\n",
      "\n",
      "DEPARTAMENTO_TECHO_PAJA:\n",
      "Registros afectados: 1870 (5.91%)\n",
      "Flag creado: 'Departamento_techo_paja_flag'\n",
      "\n",
      "CASA_PAREADA_TECHO_PAJA:\n",
      "Registros afectados: 1891 (5.97%)\n",
      "Flag creado: 'Casa_pareada_techo_paja_flag'\n",
      "\n",
      "EDAD_JEFE_HOGAR_ANOMALA:\n",
      "✓ No se encontraron inconsistencias\n",
      "\n",
      "INGRESO_ANOMALO:\n",
      "✓ No se encontraron inconsistencias\n",
      "\n",
      "INCONSISTENCIA_ETARIA:\n",
      "✓ No se encontraron inconsistencias\n",
      "\n",
      "TECHO_RUSTICO_PAREDES_PREMIUM:\n",
      "Registros afectados: 1855 (5.86%)\n",
      "Flag creado: 'techo_rustico_paredes_premium_flag'\n",
      "\n",
      "MEDIA_AGUA_LOSA:\n",
      "Registros afectados: 1869 (5.90%)\n",
      "Flag creado: 'media_agua_losa_flag'\n",
      "\n",
      "LOSA_ADOBE:\n",
      "Registros afectados: 1912 (6.04%)\n",
      "Flag creado: 'losa_adobe_flag'\n",
      "\n",
      "INCONSISTENCIA_DE_GENERO:\n",
      "✓ No se encontraron inconsistencias\n",
      "\n",
      "HOGAR_SIN_PERSONAS:\n",
      "✓ No se encontraron inconsistencias\n"
     ]
    }
   ],
   "source": [
    "df_viviendas_validado, resumen = detectar_inconsistencias(df_viviendas, validaciones)"
   ]
  },
  {
   "cell_type": "markdown",
   "id": "c629dd05-1210-4ef0-b6af-20ff2dc102ee",
   "metadata": {},
   "source": [
    "## Bonus: sistema de scoring de calidad de datos que permita evaluar la confiabilidad de cada registro de vivienda"
   ]
  },
  {
   "cell_type": "code",
   "execution_count": 31,
   "id": "68fd0ded-4af0-4448-8f17-622297fd642a",
   "metadata": {},
   "outputs": [],
   "source": [
    "def calcular_score_inconsistencias(df, nombre_score='score_inconsistencias', \n",
    "                                  tipo_score='count'):\n",
    "    \"\"\"\n",
    "    Calcula un score de inconsistencias basado en la cantidad de flags por fila.\n",
    "    Automáticamente detecta y usa todas las columnas que terminan en '_flag'.\n",
    "    \n",
    "    Parámetros:\n",
    "    -----------\n",
    "    df : pandas.DataFrame\n",
    "        DataFrame con las columnas de flags\n",
    "    nombre_score : str\n",
    "        Nombre de la columna donde se guardará el score\n",
    "    tipo_score : str\n",
    "        Tipo de score a calcular:\n",
    "        - 'count': Cuenta simple de flags activos\n",
    "        - 'percentage': Porcentaje de flags activos sobre el total de flags\n",
    "\n",
    "    \n",
    "    Retorna:\n",
    "    --------\n",
    "    pandas.DataFrame\n",
    "        DataFrame original con la columna de score añadida\n",
    "    dict\n",
    "        Información sobre el score calculado\n",
    "    \"\"\"\n",
    "    \n",
    "    df_resultado = df.copy()\n",
    "    \n",
    "    # Detectar automáticamente todas las columnas que terminan en '_flag'\n",
    "    columnas_flags = [col for col in df.columns if col.endswith('_flag')]\n",
    "    \n",
    "    # Verificar que existan columnas de flags\n",
    "    if not columnas_flags:\n",
    "        print(\"No se encontraron columnas que terminen en '_flag' en el DataFrame\")\n",
    "        return df_resultado, {}\n",
    "    \n",
    "    # Calcular el score según el tipo especificado\n",
    "    if tipo_score == 'count':\n",
    "        # Suma simple de flags (True = 1, False = 0)\n",
    "        df_resultado[nombre_score] = df_resultado[columnas_flags].sum(axis=1)\n",
    "        \n",
    "    elif tipo_score == 'percentage':\n",
    "        # Porcentaje de flags activos\n",
    "        df_resultado[nombre_score] = (df_resultado[columnas_flags].sum(axis=1) / len(columnas_flags)) * 100\n",
    "\n",
    "    \n",
    "    else:\n",
    "        print(f\"Tipo de score no reconocido: {tipo_score}\")\n",
    "        return df_resultado, {}\n",
    "    \n",
    "    # Calcular estadísticas del score\n",
    "    info_score = {\n",
    "        'columna_score': nombre_score,\n",
    "        'tipo_score': tipo_score,\n",
    "        'columnas_flags_usadas': columnas_flags,\n",
    "        'num_flags': len(columnas_flags),\n",
    "        'score_min': df_resultado[nombre_score].min(),\n",
    "        'score_max': df_resultado[nombre_score].max(),\n",
    "        'score_promedio': df_resultado[nombre_score].mean(),\n",
    "        'registros_sin_inconsistencias': (df_resultado[nombre_score] == 0).sum(),\n",
    "        'registros_con_inconsistencias': (df_resultado[nombre_score] > 0).sum()\n",
    "    }\n",
    "    \n",
    "    \n",
    "    return df_resultado, info_score"
   ]
  },
  {
   "cell_type": "code",
   "execution_count": 32,
   "id": "aae4b340-a40a-45d6-844f-8d0cd13d1838",
   "metadata": {},
   "outputs": [],
   "source": [
    "df_vivienda_score, info_score = calcular_score_inconsistencias(df_viviendas_validado, tipo_score=\"percentage\")"
   ]
  },
  {
   "cell_type": "code",
   "execution_count": 33,
   "id": "c91e2ed7-fb40-4f5b-af4d-85051da42862",
   "metadata": {},
   "outputs": [
    {
     "data": {
      "text/plain": [
       "{'columna_score': 'score_inconsistencias',\n",
       " 'tipo_score': 'percentage',\n",
       " 'columnas_flags_usadas': ['Departamento_madera_flag',\n",
       "  'MediaAgua_Hormigon_flag',\n",
       "  'Departamento_techo_paja_flag',\n",
       "  'Casa_pareada_techo_paja_flag',\n",
       "  'techo_rustico_paredes_premium_flag',\n",
       "  'media_agua_losa_flag',\n",
       "  'losa_adobe_flag'],\n",
       " 'num_flags': 7,\n",
       " 'score_min': np.float64(0.0),\n",
       " 'score_max': np.float64(28.57142857142857),\n",
       " 'score_promedio': np.float64(6.047011247314546),\n",
       " 'registros_sin_inconsistencias': np.int64(21027),\n",
       " 'registros_con_inconsistencias': np.int64(10625)}"
      ]
     },
     "execution_count": 33,
     "metadata": {},
     "output_type": "execute_result"
    }
   ],
   "source": [
    "info_score"
   ]
  },
  {
   "cell_type": "markdown",
   "id": "2482c1e2-2305-4063-8000-84fca6c2f0dd",
   "metadata": {},
   "source": [
    "\n",
    "## 2.1.3 Cálculo de indicadores derivados (35%)\n",
    "\n",
    "Usando los datos limpios, calcula:\n",
    "\n",
    "1. Razón personas por dormitorio y valida contra rangos lógicos\n",
    "2. Índice de masculinidad por hogar (hombres/mujeres * 100)\n",
    "3. Porcentaje de población por grupo etario por hogar\n",
    "4. Ingreso per cápita por hogar\n",
    "5. Identificación de viviendas con características atípicas\n",
    "\n",
    "Genera visualizaciones que muestren: - Distribución de personas por dormitorio - Relación entre ingresos del hogar y servicios básicos disponibles - Identificación de outliers en características de vivienda\n"
   ]
  },
  {
   "cell_type": "code",
   "execution_count": 34,
   "id": "1e4d532d-8bbe-4570-92bb-d27ee3970b3f",
   "metadata": {},
   "outputs": [],
   "source": [
    "df_indicadores = df_vivienda_score.copy()"
   ]
  },
  {
   "cell_type": "markdown",
   "id": "014e59f9-0aff-4624-8b88-29598ede71ff",
   "metadata": {},
   "source": [
    "9   num_personas_hogar     31660 non-null  int64  \n",
    " 10  num_hombres            31660 non-null  int64  \n",
    " 11  num_mujeres            31660 non-null  int64  \n",
    " 12  num_menores_18         31660 non-null  int64  \n",
    " 13  num_adultos_18_64      31660 non-null  int64  \n",
    " 14  num_adultos_65_plus    31660 non-null  int64 "
   ]
  },
  {
   "cell_type": "code",
   "execution_count": 35,
   "id": "e0288360-e77b-458e-8125-92adc26d74c8",
   "metadata": {},
   "outputs": [],
   "source": [
    "# A) Razón personas por dormitorio (Hacinamiento)\n",
    "df_indicadores['personas_por_dormitorio'] = df_indicadores['num_personas_hogar'] / df_indicadores['num_dormitorios']\n",
    "df_indicadores['personas_por_dormitorio'] = df_indicadores['personas_por_dormitorio'].replace([np.inf, -np.inf], np.nan) # Handle division by zero if any\n",
    "\n",
    "# B) Índice de masculinidad\n",
    "df_indicadores['indice_masculinidad'] = (df_indicadores['num_hombres'] / df_indicadores['num_mujeres']) * 100\n",
    "df_indicadores['indice_masculinidad'] = df_indicadores['indice_masculinidad'].replace([np.inf, -np.inf], np.nan)\n",
    "\n",
    "\n",
    "# C) Porcentaje de población por grupo etario por hogar\n",
    "df_indicadores[\"porc_menores_18\"] = df_indicadores[\"num_menores_18\"] / df_indicadores[\"num_personas_hogar\"] * 100\n",
    "df_indicadores[\"porc_adultos_18_64\"] = df_indicadores[\"num_adultos_18_64\"] / df_indicadores[\"num_personas_hogar\"] * 100\n",
    "df_indicadores[\"porc_adultos_65_plus\"] = df_indicadores[\"num_adultos_65_plus\"] / df_indicadores[\"num_personas_hogar\"] * 100\n",
    "\n",
    "# D) Ingreso per cápita\n",
    "df_indicadores['ingreso_per_capita'] = df_indicadores['ingreso_mensual_hogar'] / df_indicadores['num_personas_hogar']\n",
    "df_indicadores['ingreso_per_capita'] = df_indicadores['ingreso_per_capita'].replace([np.inf, -np.inf], np.nan)\n",
    "\n",
    "# E) Viviendas atípicas\n",
    "# Ya identificado con score_inconsistencias\n",
    "# df_indicadores[\"score_inconsistencias\"]\n"
   ]
  },
  {
   "cell_type": "code",
   "execution_count": null,
   "id": "ea4fb782-0dd3-49cf-bd5e-eb90da0d85d1",
   "metadata": {},
   "outputs": [],
   "source": []
  },
  {
   "cell_type": "code",
   "execution_count": null,
   "id": "8242b3ec-cd22-4b5d-b86b-ad35c90a4c2b",
   "metadata": {},
   "outputs": [],
   "source": []
  },
  {
   "cell_type": "code",
   "execution_count": null,
   "id": "2201c046-04e6-4316-bbc6-f28c6156f5a0",
   "metadata": {},
   "outputs": [],
   "source": []
  },
  {
   "cell_type": "code",
   "execution_count": 36,
   "id": "1302ac24-e5c5-4134-a8f4-6f50793c393e",
   "metadata": {},
   "outputs": [
    {
     "data": {
      "image/png": "[encoded data removed]",
      "text/plain": [
       "<Figure size 1000x600 with 1 Axes>"
      ]
     },
     "metadata": {},
     "output_type": "display_data"
    }
   ],
   "source": [
    "plt.figure(figsize=(10, 6))\n",
    "sns.histplot(df_indicadores['personas_por_dormitorio'].dropna(), bins=30, kde=True)\n",
    "plt.title('Distribución de Personas por Dormitorio (Hacinamiento)')\n",
    "plt.xlabel('Personas por Dormitorio')\n",
    "plt.ylabel('Cantidad de Viviendas')\n",
    "\n",
    "plt.show()"
   ]
  },
  {
   "cell_type": "code",
   "execution_count": 37,
   "id": "b71e5e41-720d-410b-98ad-d4da087ba039",
   "metadata": {},
   "outputs": [
    {
     "data": {
      "image/png": "[encoded data removed]",
      "text/plain": [
       "<Figure size 1200x800 with 1 Axes>"
      ]
     },
     "metadata": {},
     "output_type": "display_data"
    }
   ],
   "source": [
    "# B) Relación entre ingresos y servicios básicos\n",
    "df_servicios = df_indicadores.melt(id_vars=['ingreso_per_capita'],\n",
    "                              value_vars=['agua_potable', 'electricidad', 'gas_natural', 'internet', 'telefono_fijo', 'vehiculo_propio'],\n",
    "                              var_name='servicio', value_name='disponible')\n",
    "\n",
    "plt.figure(figsize=(12, 8))\n",
    "sns.violinplot(data=df_servicios, x='servicio', y='ingreso_per_capita', hue='disponible',split=True)\n",
    "plt.title('Ingresos per capita del Hogar vs. Disponibilidad de Servicios Básicos')\n",
    "plt.ylabel('Ingreso Mensual del Hogar ')\n",
    "\n",
    "plt.show()"
   ]
  },
  {
   "cell_type": "code",
   "execution_count": 38,
   "id": "d6252bec-2955-47b0-8119-2de284e25e3f",
   "metadata": {},
   "outputs": [
    {
     "data": {
      "text/html": [
       "<div>\n",
       "<style scoped>\n",
       "    .dataframe tbody tr th:only-of-type {\n",
       "        vertical-align: middle;\n",
       "    }\n",
       "\n",
       "    .dataframe tbody tr th {\n",
       "        vertical-align: top;\n",
       "    }\n",
       "\n",
       "    .dataframe thead th {\n",
       "        text-align: right;\n",
       "    }\n",
       "</style>\n",
       "<table border=\"1\" class=\"dataframe\">\n",
       "  <thead>\n",
       "    <tr style=\"text-align: right;\">\n",
       "      <th></th>\n",
       "      <th>ingreso_per_capita</th>\n",
       "      <th>servicio</th>\n",
       "      <th>disponible</th>\n",
       "    </tr>\n",
       "  </thead>\n",
       "  <tbody>\n",
       "    <tr>\n",
       "      <th>0</th>\n",
       "      <td>2.474753e+06</td>\n",
       "      <td>agua_potable</td>\n",
       "      <td>False</td>\n",
       "    </tr>\n",
       "    <tr>\n",
       "      <th>1</th>\n",
       "      <td>3.398209e+05</td>\n",
       "      <td>agua_potable</td>\n",
       "      <td>False</td>\n",
       "    </tr>\n",
       "    <tr>\n",
       "      <th>2</th>\n",
       "      <td>3.295090e+05</td>\n",
       "      <td>agua_potable</td>\n",
       "      <td>True</td>\n",
       "    </tr>\n",
       "    <tr>\n",
       "      <th>3</th>\n",
       "      <td>7.006550e+05</td>\n",
       "      <td>agua_potable</td>\n",
       "      <td>False</td>\n",
       "    </tr>\n",
       "    <tr>\n",
       "      <th>4</th>\n",
       "      <td>9.726930e+05</td>\n",
       "      <td>agua_potable</td>\n",
       "      <td>False</td>\n",
       "    </tr>\n",
       "    <tr>\n",
       "      <th>...</th>\n",
       "      <td>...</td>\n",
       "      <td>...</td>\n",
       "      <td>...</td>\n",
       "    </tr>\n",
       "    <tr>\n",
       "      <th>189907</th>\n",
       "      <td>2.127763e+05</td>\n",
       "      <td>vehiculo_propio</td>\n",
       "      <td>False</td>\n",
       "    </tr>\n",
       "    <tr>\n",
       "      <th>189908</th>\n",
       "      <td>1.155523e+05</td>\n",
       "      <td>vehiculo_propio</td>\n",
       "      <td>True</td>\n",
       "    </tr>\n",
       "    <tr>\n",
       "      <th>189909</th>\n",
       "      <td>1.064441e+06</td>\n",
       "      <td>vehiculo_propio</td>\n",
       "      <td>False</td>\n",
       "    </tr>\n",
       "    <tr>\n",
       "      <th>189910</th>\n",
       "      <td>4.178150e+05</td>\n",
       "      <td>vehiculo_propio</td>\n",
       "      <td>True</td>\n",
       "    </tr>\n",
       "    <tr>\n",
       "      <th>189911</th>\n",
       "      <td>3.375367e+04</td>\n",
       "      <td>vehiculo_propio</td>\n",
       "      <td>False</td>\n",
       "    </tr>\n",
       "  </tbody>\n",
       "</table>\n",
       "<p>189912 rows × 3 columns</p>\n",
       "</div>"
      ],
      "text/plain": [
       "        ingreso_per_capita         servicio  disponible\n",
       "0             2.474753e+06     agua_potable       False\n",
       "1             3.398209e+05     agua_potable       False\n",
       "2             3.295090e+05     agua_potable        True\n",
       "3             7.006550e+05     agua_potable       False\n",
       "4             9.726930e+05     agua_potable       False\n",
       "...                    ...              ...         ...\n",
       "189907        2.127763e+05  vehiculo_propio       False\n",
       "189908        1.155523e+05  vehiculo_propio        True\n",
       "189909        1.064441e+06  vehiculo_propio       False\n",
       "189910        4.178150e+05  vehiculo_propio        True\n",
       "189911        3.375367e+04  vehiculo_propio       False\n",
       "\n",
       "[189912 rows x 3 columns]"
      ]
     },
     "execution_count": 38,
     "metadata": {},
     "output_type": "execute_result"
    }
   ],
   "source": [
    "df_servicios"
   ]
  },
  {
   "cell_type": "code",
   "execution_count": 39,
   "id": "f7541fbd-9cb7-4c1a-b341-127499e2d738",
   "metadata": {},
   "outputs": [],
   "source": [
    "df_indicadores['suma_servicios_basicos'] = df_indicadores[boolean_columns].sum(axis=1)\n",
    "\n"
   ]
  },
  {
   "cell_type": "code",
   "execution_count": 40,
   "id": "0fbc4b94-def8-4e09-b385-3d1cdd4b0edc",
   "metadata": {
    "scrolled": true
   },
   "outputs": [
    {
     "data": {
      "image/png": "[encoded data removed]",
      "text/plain": [
       "<Figure size 1200x800 with 1 Axes>"
      ]
     },
     "metadata": {},
     "output_type": "display_data"
    }
   ],
   "source": [
    "plt.figure(figsize=(12, 8))\n",
    "sns.boxplot(data=df_indicadores, x='suma_servicios_basicos', y='ingreso_per_capita', hue='suma_servicios_basicos')\n",
    "plt.title('Ingresos per capita del Hogar vs. Cantidad de Servicios Básicos')\n",
    "plt.ylabel('Ingreso Mensual del Hogar ')\n",
    "\n",
    "plt.show()"
   ]
  },
  {
   "cell_type": "code",
   "execution_count": 41,
   "id": "9b22334d-64be-4be5-917e-5e9c492c626a",
   "metadata": {},
   "outputs": [
    {
     "data": {
      "text/html": [
       "<div>\n",
       "<style scoped>\n",
       "    .dataframe tbody tr th:only-of-type {\n",
       "        vertical-align: middle;\n",
       "    }\n",
       "\n",
       "    .dataframe tbody tr th {\n",
       "        vertical-align: top;\n",
       "    }\n",
       "\n",
       "    .dataframe thead th {\n",
       "        text-align: right;\n",
       "    }\n",
       "</style>\n",
       "<table border=\"1\" class=\"dataframe\">\n",
       "  <thead>\n",
       "    <tr style=\"text-align: right;\">\n",
       "      <th></th>\n",
       "      <th>id_vivienda</th>\n",
       "      <th>comuna</th>\n",
       "      <th>tipo_vivienda</th>\n",
       "      <th>num_dormitorios</th>\n",
       "      <th>num_banos</th>\n",
       "      <th>superficie_m2</th>\n",
       "      <th>ano_construccion</th>\n",
       "      <th>material_paredes</th>\n",
       "      <th>material_techo</th>\n",
       "      <th>num_personas_hogar</th>\n",
       "      <th>...</th>\n",
       "      <th>media_agua_losa_flag</th>\n",
       "      <th>losa_adobe_flag</th>\n",
       "      <th>score_inconsistencias</th>\n",
       "      <th>personas_por_dormitorio</th>\n",
       "      <th>indice_masculinidad</th>\n",
       "      <th>porc_menores_18</th>\n",
       "      <th>porc_adultos_18_64</th>\n",
       "      <th>porc_adultos_65_plus</th>\n",
       "      <th>ingreso_per_capita</th>\n",
       "      <th>suma_servicios_basicos</th>\n",
       "    </tr>\n",
       "  </thead>\n",
       "  <tbody>\n",
       "    <tr>\n",
       "      <th>176</th>\n",
       "      <td>VIV_000176</td>\n",
       "      <td>Talcahuano</td>\n",
       "      <td>Media agua</td>\n",
       "      <td>1</td>\n",
       "      <td>2</td>\n",
       "      <td>157.6</td>\n",
       "      <td>1982</td>\n",
       "      <td>Ladrillo</td>\n",
       "      <td>Zinc</td>\n",
       "      <td>1</td>\n",
       "      <td>...</td>\n",
       "      <td>False</td>\n",
       "      <td>False</td>\n",
       "      <td>0.000000</td>\n",
       "      <td>1.0</td>\n",
       "      <td>0.000000</td>\n",
       "      <td>0.000000</td>\n",
       "      <td>0.000000</td>\n",
       "      <td>100.000000</td>\n",
       "      <td>4.486190e+05</td>\n",
       "      <td>6</td>\n",
       "    </tr>\n",
       "    <tr>\n",
       "      <th>206</th>\n",
       "      <td>VIV_000206</td>\n",
       "      <td>Chillán</td>\n",
       "      <td>Casa</td>\n",
       "      <td>4</td>\n",
       "      <td>3</td>\n",
       "      <td>36.3</td>\n",
       "      <td>2005</td>\n",
       "      <td>Madera</td>\n",
       "      <td>Paja</td>\n",
       "      <td>2</td>\n",
       "      <td>...</td>\n",
       "      <td>False</td>\n",
       "      <td>False</td>\n",
       "      <td>0.000000</td>\n",
       "      <td>0.5</td>\n",
       "      <td>NaN</td>\n",
       "      <td>0.000000</td>\n",
       "      <td>100.000000</td>\n",
       "      <td>0.000000</td>\n",
       "      <td>3.030790e+05</td>\n",
       "      <td>6</td>\n",
       "    </tr>\n",
       "    <tr>\n",
       "      <th>265</th>\n",
       "      <td>VIV_000265</td>\n",
       "      <td>San antonio</td>\n",
       "      <td>Departamento</td>\n",
       "      <td>3</td>\n",
       "      <td>3</td>\n",
       "      <td>110.7</td>\n",
       "      <td>2002</td>\n",
       "      <td>Adobe</td>\n",
       "      <td>Losa</td>\n",
       "      <td>9</td>\n",
       "      <td>...</td>\n",
       "      <td>False</td>\n",
       "      <td>True</td>\n",
       "      <td>14.285714</td>\n",
       "      <td>3.0</td>\n",
       "      <td>200.000000</td>\n",
       "      <td>33.333333</td>\n",
       "      <td>0.000000</td>\n",
       "      <td>66.666667</td>\n",
       "      <td>2.850151e+05</td>\n",
       "      <td>6</td>\n",
       "    </tr>\n",
       "    <tr>\n",
       "      <th>291</th>\n",
       "      <td>VIV_000291</td>\n",
       "      <td>Copiapó</td>\n",
       "      <td>Departamento</td>\n",
       "      <td>1</td>\n",
       "      <td>2</td>\n",
       "      <td>182.2</td>\n",
       "      <td>1974</td>\n",
       "      <td>Madera</td>\n",
       "      <td>Tejas</td>\n",
       "      <td>2</td>\n",
       "      <td>...</td>\n",
       "      <td>False</td>\n",
       "      <td>False</td>\n",
       "      <td>14.285714</td>\n",
       "      <td>2.0</td>\n",
       "      <td>0.000000</td>\n",
       "      <td>0.000000</td>\n",
       "      <td>0.000000</td>\n",
       "      <td>100.000000</td>\n",
       "      <td>1.065077e+06</td>\n",
       "      <td>6</td>\n",
       "    </tr>\n",
       "    <tr>\n",
       "      <th>315</th>\n",
       "      <td>VIV_000315</td>\n",
       "      <td>Maipú</td>\n",
       "      <td>Media agua</td>\n",
       "      <td>1</td>\n",
       "      <td>3</td>\n",
       "      <td>126.3</td>\n",
       "      <td>1992</td>\n",
       "      <td>Hormigón</td>\n",
       "      <td>Paja</td>\n",
       "      <td>3</td>\n",
       "      <td>...</td>\n",
       "      <td>False</td>\n",
       "      <td>False</td>\n",
       "      <td>28.571429</td>\n",
       "      <td>3.0</td>\n",
       "      <td>NaN</td>\n",
       "      <td>66.666667</td>\n",
       "      <td>0.000000</td>\n",
       "      <td>33.333333</td>\n",
       "      <td>7.027380e+05</td>\n",
       "      <td>6</td>\n",
       "    </tr>\n",
       "    <tr>\n",
       "      <th>...</th>\n",
       "      <td>...</td>\n",
       "      <td>...</td>\n",
       "      <td>...</td>\n",
       "      <td>...</td>\n",
       "      <td>...</td>\n",
       "      <td>...</td>\n",
       "      <td>...</td>\n",
       "      <td>...</td>\n",
       "      <td>...</td>\n",
       "      <td>...</td>\n",
       "      <td>...</td>\n",
       "      <td>...</td>\n",
       "      <td>...</td>\n",
       "      <td>...</td>\n",
       "      <td>...</td>\n",
       "      <td>...</td>\n",
       "      <td>...</td>\n",
       "      <td>...</td>\n",
       "      <td>...</td>\n",
       "      <td>...</td>\n",
       "      <td>...</td>\n",
       "    </tr>\n",
       "    <tr>\n",
       "      <th>31355</th>\n",
       "      <td>VIV_031355</td>\n",
       "      <td>Temuco</td>\n",
       "      <td>Media agua</td>\n",
       "      <td>1</td>\n",
       "      <td>3</td>\n",
       "      <td>148.6</td>\n",
       "      <td>1972</td>\n",
       "      <td>Adobe</td>\n",
       "      <td>Losa</td>\n",
       "      <td>2</td>\n",
       "      <td>...</td>\n",
       "      <td>True</td>\n",
       "      <td>True</td>\n",
       "      <td>28.571429</td>\n",
       "      <td>2.0</td>\n",
       "      <td>100.000000</td>\n",
       "      <td>0.000000</td>\n",
       "      <td>50.000000</td>\n",
       "      <td>50.000000</td>\n",
       "      <td>1.708150e+05</td>\n",
       "      <td>6</td>\n",
       "    </tr>\n",
       "    <tr>\n",
       "      <th>31441</th>\n",
       "      <td>VIV_031441</td>\n",
       "      <td>Alto hospicio</td>\n",
       "      <td>Media agua</td>\n",
       "      <td>5</td>\n",
       "      <td>1</td>\n",
       "      <td>76.4</td>\n",
       "      <td>2011</td>\n",
       "      <td>Madera</td>\n",
       "      <td>Tejas</td>\n",
       "      <td>19</td>\n",
       "      <td>...</td>\n",
       "      <td>False</td>\n",
       "      <td>False</td>\n",
       "      <td>0.000000</td>\n",
       "      <td>3.8</td>\n",
       "      <td>5.555556</td>\n",
       "      <td>15.789474</td>\n",
       "      <td>52.631579</td>\n",
       "      <td>31.578947</td>\n",
       "      <td>1.034640e+05</td>\n",
       "      <td>6</td>\n",
       "    </tr>\n",
       "    <tr>\n",
       "      <th>31461</th>\n",
       "      <td>VIV_031461</td>\n",
       "      <td>Quilpué</td>\n",
       "      <td>Casa pareada</td>\n",
       "      <td>1</td>\n",
       "      <td>3</td>\n",
       "      <td>30.4</td>\n",
       "      <td>1982</td>\n",
       "      <td>Madera</td>\n",
       "      <td>Zinc</td>\n",
       "      <td>2</td>\n",
       "      <td>...</td>\n",
       "      <td>False</td>\n",
       "      <td>False</td>\n",
       "      <td>0.000000</td>\n",
       "      <td>2.0</td>\n",
       "      <td>100.000000</td>\n",
       "      <td>50.000000</td>\n",
       "      <td>50.000000</td>\n",
       "      <td>0.000000</td>\n",
       "      <td>1.226366e+06</td>\n",
       "      <td>6</td>\n",
       "    </tr>\n",
       "    <tr>\n",
       "      <th>31462</th>\n",
       "      <td>VIV_031462</td>\n",
       "      <td>Iquique</td>\n",
       "      <td>Casa</td>\n",
       "      <td>1</td>\n",
       "      <td>3</td>\n",
       "      <td>189.5</td>\n",
       "      <td>1970</td>\n",
       "      <td>Adobe</td>\n",
       "      <td>Tejas</td>\n",
       "      <td>3</td>\n",
       "      <td>...</td>\n",
       "      <td>False</td>\n",
       "      <td>False</td>\n",
       "      <td>0.000000</td>\n",
       "      <td>3.0</td>\n",
       "      <td>200.000000</td>\n",
       "      <td>0.000000</td>\n",
       "      <td>100.000000</td>\n",
       "      <td>0.000000</td>\n",
       "      <td>8.543023e+05</td>\n",
       "      <td>6</td>\n",
       "    </tr>\n",
       "    <tr>\n",
       "      <th>31601</th>\n",
       "      <td>VIV_031601</td>\n",
       "      <td>Chillán</td>\n",
       "      <td>Casa pareada</td>\n",
       "      <td>5</td>\n",
       "      <td>3</td>\n",
       "      <td>47.5</td>\n",
       "      <td>1986</td>\n",
       "      <td>Hormigón</td>\n",
       "      <td>Chapa</td>\n",
       "      <td>10</td>\n",
       "      <td>...</td>\n",
       "      <td>False</td>\n",
       "      <td>False</td>\n",
       "      <td>0.000000</td>\n",
       "      <td>2.0</td>\n",
       "      <td>11.111111</td>\n",
       "      <td>10.000000</td>\n",
       "      <td>70.000000</td>\n",
       "      <td>20.000000</td>\n",
       "      <td>2.085579e+05</td>\n",
       "      <td>6</td>\n",
       "    </tr>\n",
       "  </tbody>\n",
       "</table>\n",
       "<p>509 rows × 43 columns</p>\n",
       "</div>"
      ],
      "text/plain": [
       "      id_vivienda         comuna tipo_vivienda  num_dormitorios  num_banos  \\\n",
       "176    VIV_000176     Talcahuano    Media agua                1          2   \n",
       "206    VIV_000206        Chillán          Casa                4          3   \n",
       "265    VIV_000265    San antonio  Departamento                3          3   \n",
       "291    VIV_000291        Copiapó  Departamento                1          2   \n",
       "315    VIV_000315          Maipú    Media agua                1          3   \n",
       "...           ...            ...           ...              ...        ...   \n",
       "31355  VIV_031355         Temuco    Media agua                1          3   \n",
       "31441  VIV_031441  Alto hospicio    Media agua                5          1   \n",
       "31461  VIV_031461        Quilpué  Casa pareada                1          3   \n",
       "31462  VIV_031462        Iquique          Casa                1          3   \n",
       "31601  VIV_031601        Chillán  Casa pareada                5          3   \n",
       "\n",
       "       superficie_m2  ano_construccion material_paredes material_techo  \\\n",
       "176            157.6              1982         Ladrillo           Zinc   \n",
       "206             36.3              2005           Madera           Paja   \n",
       "265            110.7              2002            Adobe           Losa   \n",
       "291            182.2              1974           Madera          Tejas   \n",
       "315            126.3              1992         Hormigón           Paja   \n",
       "...              ...               ...              ...            ...   \n",
       "31355          148.6              1972            Adobe           Losa   \n",
       "31441           76.4              2011           Madera          Tejas   \n",
       "31461           30.4              1982           Madera           Zinc   \n",
       "31462          189.5              1970            Adobe          Tejas   \n",
       "31601           47.5              1986         Hormigón          Chapa   \n",
       "\n",
       "       num_personas_hogar  ...  media_agua_losa_flag  losa_adobe_flag  \\\n",
       "176                     1  ...                 False            False   \n",
       "206                     2  ...                 False            False   \n",
       "265                     9  ...                 False             True   \n",
       "291                     2  ...                 False            False   \n",
       "315                     3  ...                 False            False   \n",
       "...                   ...  ...                   ...              ...   \n",
       "31355                   2  ...                  True             True   \n",
       "31441                  19  ...                 False            False   \n",
       "31461                   2  ...                 False            False   \n",
       "31462                   3  ...                 False            False   \n",
       "31601                  10  ...                 False            False   \n",
       "\n",
       "       score_inconsistencias  personas_por_dormitorio  indice_masculinidad  \\\n",
       "176                 0.000000                      1.0             0.000000   \n",
       "206                 0.000000                      0.5                  NaN   \n",
       "265                14.285714                      3.0           200.000000   \n",
       "291                14.285714                      2.0             0.000000   \n",
       "315                28.571429                      3.0                  NaN   \n",
       "...                      ...                      ...                  ...   \n",
       "31355              28.571429                      2.0           100.000000   \n",
       "31441               0.000000                      3.8             5.555556   \n",
       "31461               0.000000                      2.0           100.000000   \n",
       "31462               0.000000                      3.0           200.000000   \n",
       "31601               0.000000                      2.0            11.111111   \n",
       "\n",
       "       porc_menores_18  porc_adultos_18_64 porc_adultos_65_plus  \\\n",
       "176           0.000000            0.000000           100.000000   \n",
       "206           0.000000          100.000000             0.000000   \n",
       "265          33.333333            0.000000            66.666667   \n",
       "291           0.000000            0.000000           100.000000   \n",
       "315          66.666667            0.000000            33.333333   \n",
       "...                ...                 ...                  ...   \n",
       "31355         0.000000           50.000000            50.000000   \n",
       "31441        15.789474           52.631579            31.578947   \n",
       "31461        50.000000           50.000000             0.000000   \n",
       "31462         0.000000          100.000000             0.000000   \n",
       "31601        10.000000           70.000000            20.000000   \n",
       "\n",
       "      ingreso_per_capita  suma_servicios_basicos  \n",
       "176         4.486190e+05                       6  \n",
       "206         3.030790e+05                       6  \n",
       "265         2.850151e+05                       6  \n",
       "291         1.065077e+06                       6  \n",
       "315         7.027380e+05                       6  \n",
       "...                  ...                     ...  \n",
       "31355       1.708150e+05                       6  \n",
       "31441       1.034640e+05                       6  \n",
       "31461       1.226366e+06                       6  \n",
       "31462       8.543023e+05                       6  \n",
       "31601       2.085579e+05                       6  \n",
       "\n",
       "[509 rows x 43 columns]"
      ]
     },
     "execution_count": 41,
     "metadata": {},
     "output_type": "execute_result"
    }
   ],
   "source": [
    "df_indicadores[df_indicadores['suma_servicios_basicos'] == 6]"
   ]
  },
  {
   "cell_type": "code",
   "execution_count": 42,
   "id": "7106dceb-6b85-4605-898a-329843ca82d4",
   "metadata": {},
   "outputs": [
    {
     "data": {
      "image/png": "[encoded data removed]",
      "text/plain": [
       "<Figure size 1200x800 with 1 Axes>"
      ]
     },
     "metadata": {},
     "output_type": "display_data"
    }
   ],
   "source": [
    "plt.figure(figsize=(12, 8))\n",
    "sns.boxplot(data=df_indicadores, x='suma_servicios_basicos', y='ingreso_per_capita', hue='suma_servicios_basicos')\n",
    "plt.title('Ingresos per capita del Hogar vs. Cantidad de Servicios Básicos')\n",
    "plt.ylabel('Ingreso Mensual del Hogar ')\n",
    "\n",
    "plt.show()\n"
   ]
  },
  {
   "cell_type": "markdown",
   "id": "7454d305-e91a-4c69-8a73-80f4b17ae123",
   "metadata": {},
   "source": [
    "0   id_vivienda            31660 non-null  object \n",
    " 1   comuna                 31660 non-null  object \n",
    " 2   tipo_vivienda          31660 non-null  object \n",
    " 3   num_dormitorios        31660 non-null  int64  \n",
    " 4   num_banos              31660 non-null  int64  \n",
    " 5   superficie_m2          31660 non-null  float64\n",
    " 6   ano_construccion       31660 non-null  int64  \n",
    " 7   material_paredes       31660 non-null  object \n",
    " 8   material_techo         31660 non-null  object \n",
    " 9   num_personas_hogar     31660 non-null  int64  \n",
    " 10  num_hombres            31660 non-null  int64  \n",
    " 11  num_mujeres            31660 non-null  int64  \n",
    " 12  num_menores_18         31660 non-null  int64  \n",
    " 13  num_adultos_18_64      31660 non-null  int64  \n",
    " 14  num_adultos_65_plus    31660 non-null  int64  \n",
    " 15  ingreso_mensual_hogar  31660 non-null  int64  \n",
    " 16  jefe_hogar_edad        31660 non-null  int64  \n",
    " 17  jefe_hogar_sexo        31660 non-null  object \n",
    " 18  jefe_hogar_educacion   31660 non-null  object \n",
    " 19  agua_potable           31660 non-null  object \n",
    " 20  electricidad           31660 non-null  object \n",
    " 21  gas_natural            31660 non-null  object \n",
    " 22  internet               31660 non-null  object \n",
    " 23  telefono_fijo          31660 non-null  object \n",
    " 24  vehiculo_propio        31660 non-null  object \n",
    " 25  tenencia_vivienda      31660 non-null  object \n",
    "dtypes: float64(1), int64(11), object(14)\n",
    "memory usage: 6.3+ MB"
   ]
  },
  {
   "cell_type": "code",
   "execution_count": 43,
   "id": "eca9ed43-c523-4aa2-afad-06613561d2bf",
   "metadata": {},
   "outputs": [
    {
     "data": {
      "image/png": "[encoded data removed]",
      "text/plain": [
       "<Figure size 600x400 with 1 Axes>"
      ]
     },
     "metadata": {},
     "output_type": "display_data"
    },
    {
     "data": {
      "image/png": "[encoded data removed]",
      "text/plain": [
       "<Figure size 600x400 with 1 Axes>"
      ]
     },
     "metadata": {},
     "output_type": "display_data"
    },
    {
     "data": {
      "image/png": "[encoded data removed]",
      "text/plain": [
       "<Figure size 600x400 with 1 Axes>"
      ]
     },
     "metadata": {},
     "output_type": "display_data"
    }
   ],
   "source": [
    "# Identificación de outliers en características de vivienda\n",
    "\n",
    "\n",
    "for col in [\"tipo_vivienda\", \"material_paredes\", \"material_techo\"]:\n",
    "    plt.figure(figsize=(6, 4))\n",
    "    sns.countplot(x=col, data=df_indicadores, order=df_indicadores[col].value_counts().index)\n",
    "    plt.title(f'Category Counts in {col}')\n",
    "    plt.xlabel('Category')\n",
    "    plt.ylabel('Count')\n",
    "    plt.show()\n"
   ]
  },
  {
   "cell_type": "code",
   "execution_count": 44,
   "id": "c56cf9f5-90ea-4c33-a28b-ab9126729802",
   "metadata": {},
   "outputs": [
    {
     "data": {
      "text/html": [
       "<div>\n",
       "<style scoped>\n",
       "    .dataframe tbody tr th:only-of-type {\n",
       "        vertical-align: middle;\n",
       "    }\n",
       "\n",
       "    .dataframe tbody tr th {\n",
       "        vertical-align: top;\n",
       "    }\n",
       "\n",
       "    .dataframe thead th {\n",
       "        text-align: right;\n",
       "    }\n",
       "</style>\n",
       "<table border=\"1\" class=\"dataframe\">\n",
       "  <thead>\n",
       "    <tr style=\"text-align: right;\">\n",
       "      <th></th>\n",
       "      <th>id_vivienda</th>\n",
       "      <th>comuna</th>\n",
       "      <th>tipo_vivienda</th>\n",
       "      <th>num_dormitorios</th>\n",
       "      <th>num_banos</th>\n",
       "      <th>superficie_m2</th>\n",
       "      <th>ano_construccion</th>\n",
       "      <th>material_paredes</th>\n",
       "      <th>material_techo</th>\n",
       "      <th>num_personas_hogar</th>\n",
       "      <th>...</th>\n",
       "      <th>media_agua_losa_flag</th>\n",
       "      <th>losa_adobe_flag</th>\n",
       "      <th>score_inconsistencias</th>\n",
       "      <th>personas_por_dormitorio</th>\n",
       "      <th>indice_masculinidad</th>\n",
       "      <th>porc_menores_18</th>\n",
       "      <th>porc_adultos_18_64</th>\n",
       "      <th>porc_adultos_65_plus</th>\n",
       "      <th>ingreso_per_capita</th>\n",
       "      <th>suma_servicios_basicos</th>\n",
       "    </tr>\n",
       "  </thead>\n",
       "  <tbody>\n",
       "    <tr>\n",
       "      <th>0</th>\n",
       "      <td>VIV_000000</td>\n",
       "      <td>Vallenar</td>\n",
       "      <td>Casa</td>\n",
       "      <td>4</td>\n",
       "      <td>3</td>\n",
       "      <td>48.8</td>\n",
       "      <td>2012</td>\n",
       "      <td>Ladrillo</td>\n",
       "      <td>Losa</td>\n",
       "      <td>1</td>\n",
       "      <td>...</td>\n",
       "      <td>False</td>\n",
       "      <td>False</td>\n",
       "      <td>0.0</td>\n",
       "      <td>0.250000</td>\n",
       "      <td>0.0</td>\n",
       "      <td>0.000000</td>\n",
       "      <td>100.000000</td>\n",
       "      <td>0.000000</td>\n",
       "      <td>2.474753e+06</td>\n",
       "      <td>4</td>\n",
       "    </tr>\n",
       "    <tr>\n",
       "      <th>1</th>\n",
       "      <td>VIV_000001</td>\n",
       "      <td>Coyhaique</td>\n",
       "      <td>Casa pareada</td>\n",
       "      <td>2</td>\n",
       "      <td>1</td>\n",
       "      <td>152.6</td>\n",
       "      <td>1982</td>\n",
       "      <td>Madera</td>\n",
       "      <td>Tejas</td>\n",
       "      <td>7</td>\n",
       "      <td>...</td>\n",
       "      <td>False</td>\n",
       "      <td>False</td>\n",
       "      <td>0.0</td>\n",
       "      <td>3.500000</td>\n",
       "      <td>75.0</td>\n",
       "      <td>42.857143</td>\n",
       "      <td>42.857143</td>\n",
       "      <td>14.285714</td>\n",
       "      <td>3.398209e+05</td>\n",
       "      <td>3</td>\n",
       "    </tr>\n",
       "    <tr>\n",
       "      <th>2</th>\n",
       "      <td>VIV_000002</td>\n",
       "      <td>La serena</td>\n",
       "      <td>Casa</td>\n",
       "      <td>1</td>\n",
       "      <td>3</td>\n",
       "      <td>73.6</td>\n",
       "      <td>2012</td>\n",
       "      <td>Adobe</td>\n",
       "      <td>Paja</td>\n",
       "      <td>3</td>\n",
       "      <td>...</td>\n",
       "      <td>False</td>\n",
       "      <td>False</td>\n",
       "      <td>0.0</td>\n",
       "      <td>3.000000</td>\n",
       "      <td>NaN</td>\n",
       "      <td>0.000000</td>\n",
       "      <td>0.000000</td>\n",
       "      <td>100.000000</td>\n",
       "      <td>3.295090e+05</td>\n",
       "      <td>5</td>\n",
       "    </tr>\n",
       "    <tr>\n",
       "      <th>3</th>\n",
       "      <td>VIV_000003</td>\n",
       "      <td>Curicó</td>\n",
       "      <td>Casa</td>\n",
       "      <td>3</td>\n",
       "      <td>3</td>\n",
       "      <td>69.4</td>\n",
       "      <td>2002</td>\n",
       "      <td>Ladrillo</td>\n",
       "      <td>Losa</td>\n",
       "      <td>2</td>\n",
       "      <td>...</td>\n",
       "      <td>False</td>\n",
       "      <td>False</td>\n",
       "      <td>0.0</td>\n",
       "      <td>0.666667</td>\n",
       "      <td>NaN</td>\n",
       "      <td>50.000000</td>\n",
       "      <td>0.000000</td>\n",
       "      <td>50.000000</td>\n",
       "      <td>7.006550e+05</td>\n",
       "      <td>1</td>\n",
       "    </tr>\n",
       "    <tr>\n",
       "      <th>4</th>\n",
       "      <td>VIV_000004</td>\n",
       "      <td>Los ángeles</td>\n",
       "      <td>Casa pareada</td>\n",
       "      <td>1</td>\n",
       "      <td>1</td>\n",
       "      <td>62.6</td>\n",
       "      <td>2004</td>\n",
       "      <td>Adobe</td>\n",
       "      <td>Zinc</td>\n",
       "      <td>3</td>\n",
       "      <td>...</td>\n",
       "      <td>False</td>\n",
       "      <td>False</td>\n",
       "      <td>0.0</td>\n",
       "      <td>3.000000</td>\n",
       "      <td>200.0</td>\n",
       "      <td>66.666667</td>\n",
       "      <td>0.000000</td>\n",
       "      <td>33.333333</td>\n",
       "      <td>9.726930e+05</td>\n",
       "      <td>2</td>\n",
       "    </tr>\n",
       "    <tr>\n",
       "      <th>...</th>\n",
       "      <td>...</td>\n",
       "      <td>...</td>\n",
       "      <td>...</td>\n",
       "      <td>...</td>\n",
       "      <td>...</td>\n",
       "      <td>...</td>\n",
       "      <td>...</td>\n",
       "      <td>...</td>\n",
       "      <td>...</td>\n",
       "      <td>...</td>\n",
       "      <td>...</td>\n",
       "      <td>...</td>\n",
       "      <td>...</td>\n",
       "      <td>...</td>\n",
       "      <td>...</td>\n",
       "      <td>...</td>\n",
       "      <td>...</td>\n",
       "      <td>...</td>\n",
       "      <td>...</td>\n",
       "      <td>...</td>\n",
       "      <td>...</td>\n",
       "    </tr>\n",
       "    <tr>\n",
       "      <th>31647</th>\n",
       "      <td>VIV_031647</td>\n",
       "      <td>Villa alemana</td>\n",
       "      <td>Casa</td>\n",
       "      <td>1</td>\n",
       "      <td>3</td>\n",
       "      <td>190.5</td>\n",
       "      <td>1999</td>\n",
       "      <td>Adobe</td>\n",
       "      <td>Paja</td>\n",
       "      <td>3</td>\n",
       "      <td>...</td>\n",
       "      <td>False</td>\n",
       "      <td>False</td>\n",
       "      <td>0.0</td>\n",
       "      <td>3.000000</td>\n",
       "      <td>50.0</td>\n",
       "      <td>0.000000</td>\n",
       "      <td>33.333333</td>\n",
       "      <td>66.666667</td>\n",
       "      <td>2.127763e+05</td>\n",
       "      <td>2</td>\n",
       "    </tr>\n",
       "    <tr>\n",
       "      <th>31648</th>\n",
       "      <td>VIV_031648</td>\n",
       "      <td>Maipú</td>\n",
       "      <td>Casa</td>\n",
       "      <td>5</td>\n",
       "      <td>1</td>\n",
       "      <td>114.6</td>\n",
       "      <td>1953</td>\n",
       "      <td>Madera</td>\n",
       "      <td>Paja</td>\n",
       "      <td>17</td>\n",
       "      <td>...</td>\n",
       "      <td>False</td>\n",
       "      <td>False</td>\n",
       "      <td>0.0</td>\n",
       "      <td>3.400000</td>\n",
       "      <td>70.0</td>\n",
       "      <td>5.882353</td>\n",
       "      <td>23.529412</td>\n",
       "      <td>70.588235</td>\n",
       "      <td>1.155523e+05</td>\n",
       "      <td>4</td>\n",
       "    </tr>\n",
       "    <tr>\n",
       "      <th>31649</th>\n",
       "      <td>VIV_031649</td>\n",
       "      <td>San antonio</td>\n",
       "      <td>Departamento</td>\n",
       "      <td>4</td>\n",
       "      <td>2</td>\n",
       "      <td>30.3</td>\n",
       "      <td>2005</td>\n",
       "      <td>Ladrillo</td>\n",
       "      <td>Zinc</td>\n",
       "      <td>2</td>\n",
       "      <td>...</td>\n",
       "      <td>False</td>\n",
       "      <td>False</td>\n",
       "      <td>0.0</td>\n",
       "      <td>0.500000</td>\n",
       "      <td>0.0</td>\n",
       "      <td>50.000000</td>\n",
       "      <td>50.000000</td>\n",
       "      <td>0.000000</td>\n",
       "      <td>1.064441e+06</td>\n",
       "      <td>4</td>\n",
       "    </tr>\n",
       "    <tr>\n",
       "      <th>31650</th>\n",
       "      <td>VIV_031650</td>\n",
       "      <td>Ñuñoa</td>\n",
       "      <td>Casa pareada</td>\n",
       "      <td>1</td>\n",
       "      <td>1</td>\n",
       "      <td>198.7</td>\n",
       "      <td>2020</td>\n",
       "      <td>Ladrillo</td>\n",
       "      <td>Zinc</td>\n",
       "      <td>2</td>\n",
       "      <td>...</td>\n",
       "      <td>False</td>\n",
       "      <td>False</td>\n",
       "      <td>0.0</td>\n",
       "      <td>2.000000</td>\n",
       "      <td>NaN</td>\n",
       "      <td>50.000000</td>\n",
       "      <td>50.000000</td>\n",
       "      <td>0.000000</td>\n",
       "      <td>4.178150e+05</td>\n",
       "      <td>5</td>\n",
       "    </tr>\n",
       "    <tr>\n",
       "      <th>31651</th>\n",
       "      <td>VIV_031651</td>\n",
       "      <td>San fernando</td>\n",
       "      <td>Media agua</td>\n",
       "      <td>2</td>\n",
       "      <td>1</td>\n",
       "      <td>183.5</td>\n",
       "      <td>1968</td>\n",
       "      <td>Adobe</td>\n",
       "      <td>Tejas</td>\n",
       "      <td>12</td>\n",
       "      <td>...</td>\n",
       "      <td>False</td>\n",
       "      <td>False</td>\n",
       "      <td>0.0</td>\n",
       "      <td>6.000000</td>\n",
       "      <td>500.0</td>\n",
       "      <td>0.000000</td>\n",
       "      <td>91.666667</td>\n",
       "      <td>8.333333</td>\n",
       "      <td>3.375367e+04</td>\n",
       "      <td>4</td>\n",
       "    </tr>\n",
       "  </tbody>\n",
       "</table>\n",
       "<p>31652 rows × 43 columns</p>\n",
       "</div>"
      ],
      "text/plain": [
       "      id_vivienda         comuna tipo_vivienda  num_dormitorios  num_banos  \\\n",
       "0      VIV_000000       Vallenar          Casa                4          3   \n",
       "1      VIV_000001      Coyhaique  Casa pareada                2          1   \n",
       "2      VIV_000002      La serena          Casa                1          3   \n",
       "3      VIV_000003         Curicó          Casa                3          3   \n",
       "4      VIV_000004    Los ángeles  Casa pareada                1          1   \n",
       "...           ...            ...           ...              ...        ...   \n",
       "31647  VIV_031647  Villa alemana          Casa                1          3   \n",
       "31648  VIV_031648          Maipú          Casa                5          1   \n",
       "31649  VIV_031649    San antonio  Departamento                4          2   \n",
       "31650  VIV_031650          Ñuñoa  Casa pareada                1          1   \n",
       "31651  VIV_031651   San fernando    Media agua                2          1   \n",
       "\n",
       "       superficie_m2  ano_construccion material_paredes material_techo  \\\n",
       "0               48.8              2012         Ladrillo           Losa   \n",
       "1              152.6              1982           Madera          Tejas   \n",
       "2               73.6              2012            Adobe           Paja   \n",
       "3               69.4              2002         Ladrillo           Losa   \n",
       "4               62.6              2004            Adobe           Zinc   \n",
       "...              ...               ...              ...            ...   \n",
       "31647          190.5              1999            Adobe           Paja   \n",
       "31648          114.6              1953           Madera           Paja   \n",
       "31649           30.3              2005         Ladrillo           Zinc   \n",
       "31650          198.7              2020         Ladrillo           Zinc   \n",
       "31651          183.5              1968            Adobe          Tejas   \n",
       "\n",
       "       num_personas_hogar  ...  media_agua_losa_flag  losa_adobe_flag  \\\n",
       "0                       1  ...                 False            False   \n",
       "1                       7  ...                 False            False   \n",
       "2                       3  ...                 False            False   \n",
       "3                       2  ...                 False            False   \n",
       "4                       3  ...                 False            False   \n",
       "...                   ...  ...                   ...              ...   \n",
       "31647                   3  ...                 False            False   \n",
       "31648                  17  ...                 False            False   \n",
       "31649                   2  ...                 False            False   \n",
       "31650                   2  ...                 False            False   \n",
       "31651                  12  ...                 False            False   \n",
       "\n",
       "       score_inconsistencias  personas_por_dormitorio  indice_masculinidad  \\\n",
       "0                        0.0                 0.250000                  0.0   \n",
       "1                        0.0                 3.500000                 75.0   \n",
       "2                        0.0                 3.000000                  NaN   \n",
       "3                        0.0                 0.666667                  NaN   \n",
       "4                        0.0                 3.000000                200.0   \n",
       "...                      ...                      ...                  ...   \n",
       "31647                    0.0                 3.000000                 50.0   \n",
       "31648                    0.0                 3.400000                 70.0   \n",
       "31649                    0.0                 0.500000                  0.0   \n",
       "31650                    0.0                 2.000000                  NaN   \n",
       "31651                    0.0                 6.000000                500.0   \n",
       "\n",
       "       porc_menores_18  porc_adultos_18_64 porc_adultos_65_plus  \\\n",
       "0             0.000000          100.000000             0.000000   \n",
       "1            42.857143           42.857143            14.285714   \n",
       "2             0.000000            0.000000           100.000000   \n",
       "3            50.000000            0.000000            50.000000   \n",
       "4            66.666667            0.000000            33.333333   \n",
       "...                ...                 ...                  ...   \n",
       "31647         0.000000           33.333333            66.666667   \n",
       "31648         5.882353           23.529412            70.588235   \n",
       "31649        50.000000           50.000000             0.000000   \n",
       "31650        50.000000           50.000000             0.000000   \n",
       "31651         0.000000           91.666667             8.333333   \n",
       "\n",
       "      ingreso_per_capita  suma_servicios_basicos  \n",
       "0           2.474753e+06                       4  \n",
       "1           3.398209e+05                       3  \n",
       "2           3.295090e+05                       5  \n",
       "3           7.006550e+05                       1  \n",
       "4           9.726930e+05                       2  \n",
       "...                  ...                     ...  \n",
       "31647       2.127763e+05                       2  \n",
       "31648       1.155523e+05                       4  \n",
       "31649       1.064441e+06                       4  \n",
       "31650       4.178150e+05                       5  \n",
       "31651       3.375367e+04                       4  \n",
       "\n",
       "[31652 rows x 43 columns]"
      ]
     },
     "execution_count": 44,
     "metadata": {},
     "output_type": "execute_result"
    }
   ],
   "source": [
    "# tamaño de las viviendas segun su año de construccion\n",
    "df_indicadores"
   ]
  },
  {
   "cell_type": "code",
   "execution_count": 45,
   "id": "64a5bf8a-e055-4e84-9d9d-5327d339a77c",
   "metadata": {},
   "outputs": [],
   "source": [
    "df_indicadores.to_csv(INTERIM_DATA_DIR / \"indicadores_vivienda_interim.csv\")"
   ]
  }
 ],
 "metadata": {
  "kernelspec": {
   "display_name": "Python 3 (ipykernel)",
   "language": "python",
   "name": "python3"
  },
  "language_info": {
   "codemirror_mode": {
    "name": "ipython",
    "version": 3
   },
   "file_extension": ".py",
   "mimetype": "text/x-python",
   "name": "python",
   "nbconvert_exporter": "python",
   "pygments_lexer": "ipython3",
   "version": "3.12.10"
  }
 },
 "nbformat": 4,
 "nbformat_minor": 5
}
